{
 "cells": [
  {
   "cell_type": "markdown",
   "id": "fafe77c3",
   "metadata": {},
   "source": [
    "# **Customer Lifetime Value Prediction**"
   ]
  },
  {
   "cell_type": "markdown",
   "id": "c886f448",
   "metadata": {},
   "source": [
    "### **Business Problem**"
   ]
  },
  {
   "cell_type": "markdown",
   "id": "c5a9e628",
   "metadata": {},
   "source": [
    "Sebuah perusahaan bernama PT. ABC merupakan perusahaan yang bergerak di bidang asuransi kendaraan bermotor. PT ABC menyediakan fasilitas asuransi pada berbagai jenis kendaraan dimulai dari kendaraan kota, SUV, hingga kendaraan premium.  \n",
    "  \n",
    "  \n",
    "Dengan banyaknya pesaing yang bermunculan, PT ABC harus bertahan dari gempuran para pesaing tersebut. Banyak strategi yang bisa dilakukan oleh PT ABC, salah satunya adalah menjaga relasi dengan pelanggan yang ada. Berdasarkan Marketing Metrics yang dikutip dari artikel Forbes *Don't Get Lazy About Your Client Relationships*, bisnis memiliki kemungkinan mencapai 60 - 70% untuk menjual produknya ke konsumen yang sudah ada dan hanya 5 - 20% pada konsumen baru. Oleh karena itu, PT ABC berniat untuk memaksimalkan potensial pasar yang sudah ada.  \n",
    "\n",
    "    \n",
    "Namun, tidak semua konsumen di PT ABC memiliki karakteristik dan kebutuhan yang sama. Oleh karena itu, PT ABC ingin menelusuri lebih lanjut karakteristik dan nilai konsumen agar PT ABC tidak salah dalam mengalokasikan sumber daya untuk pemasaran. Salah satu indikator yang ingin dicari adalah Customer Lifetime Value (CLV). Customer Lifetime Value adalah indikator yang menyatakan nilai suatu pelanggan terhadap merk tertentu. Indikator tersebut mampu membantu PT ABC untuk mengenali nilai pelanggannya dengan lebih baik, sehingga PT ABC mampu menyiapkan strategi pemasaran dan penawaran yang lebih baik. Dengan tujuan tersebut, PT ABC ingin melakukan prediksi nilai Customer Lifetime Value."
   ]
  },
  {
   "cell_type": "markdown",
   "id": "8b058b35",
   "metadata": {},
   "source": [
    "### **Data Understanding**"
   ]
  },
  {
   "cell_type": "markdown",
   "id": "8502ab25",
   "metadata": {},
   "source": [
    "- Dataset dapat diambil pada link: https://drive.google.com/drive/folders/1Qk9VJXpVlYnZofzRmH5z15Kpi-5M8KOv\n",
    "- Setiap baris merupakan data terkait tipe deal asuransi dari masing- masing pelanggan PT ABC\n",
    "\n",
    "**Data Information**\n",
    "\n",
    "| **Column** | **Data Type** | **Description** |\n",
    "| --- | --- | --- |\n",
    "| Vehicle Class | Object | Vehicle type that the insurance covered |\n",
    "| Coverage | Object | Types of insurance coverage |\n",
    "| Renew Offer Type| Object | Insurance renewal offer types |\n",
    "| EmploymentStatus | Object | Customer's employment status |\n",
    "| Marital Status | Object | Customer's marital status |\n",
    "| Education | Object | Customer's level of education |\n",
    "| Number of Policies | Float | Number of policies |\n",
    "| Monthly Premium Auto | Float | The amount customer pay for coverage monthly |\n",
    "| Total Claim Amount | Float | The sum payable at the maturity of an insurance policy |\n",
    "| Income | Float | Customer's income |\n",
    "| Customer Lifetime Value | Float | Customer Lifetime Value |\n",
    "\n",
    "  \n",
    "  \n",
    "  "
   ]
  },
  {
   "cell_type": "code",
   "execution_count": 1,
   "id": "fd3f09f9",
   "metadata": {},
   "outputs": [],
   "source": [
    "# Import Basic Library\n",
    "import pandas as pd \n",
    "import numpy as np\n",
    "import matplotlib.pyplot as plt\n",
    "import seaborn as sns\n",
    "\n",
    "import warnings\n",
    "warnings.filterwarnings('ignore')"
   ]
  },
  {
   "cell_type": "code",
   "execution_count": 2,
   "id": "71119623",
   "metadata": {},
   "outputs": [
    {
     "data": {
      "text/html": [
       "<div>\n",
       "<style scoped>\n",
       "    .dataframe tbody tr th:only-of-type {\n",
       "        vertical-align: middle;\n",
       "    }\n",
       "\n",
       "    .dataframe tbody tr th {\n",
       "        vertical-align: top;\n",
       "    }\n",
       "\n",
       "    .dataframe thead th {\n",
       "        text-align: right;\n",
       "    }\n",
       "</style>\n",
       "<table border=\"1\" class=\"dataframe\">\n",
       "  <thead>\n",
       "    <tr style=\"text-align: right;\">\n",
       "      <th></th>\n",
       "      <th>Vehicle Class</th>\n",
       "      <th>Coverage</th>\n",
       "      <th>Renew Offer Type</th>\n",
       "      <th>EmploymentStatus</th>\n",
       "      <th>Marital Status</th>\n",
       "      <th>Education</th>\n",
       "      <th>Number of Policies</th>\n",
       "      <th>Monthly Premium Auto</th>\n",
       "      <th>Total Claim Amount</th>\n",
       "      <th>Income</th>\n",
       "      <th>Customer Lifetime Value</th>\n",
       "    </tr>\n",
       "  </thead>\n",
       "  <tbody>\n",
       "    <tr>\n",
       "      <th>0</th>\n",
       "      <td>Four-Door Car</td>\n",
       "      <td>Extended</td>\n",
       "      <td>Offer1</td>\n",
       "      <td>Retired</td>\n",
       "      <td>Divorced</td>\n",
       "      <td>High School or Below</td>\n",
       "      <td>2.0</td>\n",
       "      <td>90.0</td>\n",
       "      <td>571.479602</td>\n",
       "      <td>11828.0</td>\n",
       "      <td>10083.486880</td>\n",
       "    </tr>\n",
       "    <tr>\n",
       "      <th>1</th>\n",
       "      <td>Four-Door Car</td>\n",
       "      <td>Basic</td>\n",
       "      <td>Offer1</td>\n",
       "      <td>Employed</td>\n",
       "      <td>Married</td>\n",
       "      <td>College</td>\n",
       "      <td>6.0</td>\n",
       "      <td>62.0</td>\n",
       "      <td>114.514440</td>\n",
       "      <td>44762.0</td>\n",
       "      <td>4943.386117</td>\n",
       "    </tr>\n",
       "    <tr>\n",
       "      <th>2</th>\n",
       "      <td>Two-Door Car</td>\n",
       "      <td>Basic</td>\n",
       "      <td>Offer1</td>\n",
       "      <td>Retired</td>\n",
       "      <td>Married</td>\n",
       "      <td>Master</td>\n",
       "      <td>2.0</td>\n",
       "      <td>62.0</td>\n",
       "      <td>257.248789</td>\n",
       "      <td>21514.0</td>\n",
       "      <td>11981.984810</td>\n",
       "    </tr>\n",
       "    <tr>\n",
       "      <th>3</th>\n",
       "      <td>Four-Door Car</td>\n",
       "      <td>Premium</td>\n",
       "      <td>Offer3</td>\n",
       "      <td>Disabled</td>\n",
       "      <td>Married</td>\n",
       "      <td>High School or Below</td>\n",
       "      <td>1.0</td>\n",
       "      <td>116.0</td>\n",
       "      <td>556.800000</td>\n",
       "      <td>17913.0</td>\n",
       "      <td>4550.856045</td>\n",
       "    </tr>\n",
       "    <tr>\n",
       "      <th>4</th>\n",
       "      <td>Two-Door Car</td>\n",
       "      <td>Basic</td>\n",
       "      <td>Offer3</td>\n",
       "      <td>Medical Leave</td>\n",
       "      <td>Married</td>\n",
       "      <td>High School or Below</td>\n",
       "      <td>1.0</td>\n",
       "      <td>62.0</td>\n",
       "      <td>355.820799</td>\n",
       "      <td>19030.0</td>\n",
       "      <td>2372.155492</td>\n",
       "    </tr>\n",
       "  </tbody>\n",
       "</table>\n",
       "</div>"
      ],
      "text/plain": [
       "   Vehicle Class  Coverage Renew Offer Type EmploymentStatus Marital Status  \\\n",
       "0  Four-Door Car  Extended           Offer1          Retired       Divorced   \n",
       "1  Four-Door Car     Basic           Offer1         Employed        Married   \n",
       "2   Two-Door Car     Basic           Offer1          Retired        Married   \n",
       "3  Four-Door Car   Premium           Offer3         Disabled        Married   \n",
       "4   Two-Door Car     Basic           Offer3    Medical Leave        Married   \n",
       "\n",
       "              Education  Number of Policies  Monthly Premium Auto  \\\n",
       "0  High School or Below                 2.0                  90.0   \n",
       "1               College                 6.0                  62.0   \n",
       "2                Master                 2.0                  62.0   \n",
       "3  High School or Below                 1.0                 116.0   \n",
       "4  High School or Below                 1.0                  62.0   \n",
       "\n",
       "   Total Claim Amount   Income  Customer Lifetime Value  \n",
       "0          571.479602  11828.0             10083.486880  \n",
       "1          114.514440  44762.0              4943.386117  \n",
       "2          257.248789  21514.0             11981.984810  \n",
       "3          556.800000  17913.0              4550.856045  \n",
       "4          355.820799  19030.0              2372.155492  "
      ]
     },
     "execution_count": 2,
     "metadata": {},
     "output_type": "execute_result"
    }
   ],
   "source": [
    "# Load Dataset\n",
    "data=pd.read_csv('data_customer_lifetime_value.csv')\n",
    "data.head()"
   ]
  },
  {
   "cell_type": "code",
   "execution_count": 3,
   "id": "34340daa",
   "metadata": {},
   "outputs": [
    {
     "data": {
      "text/html": [
       "<div>\n",
       "<style scoped>\n",
       "    .dataframe tbody tr th:only-of-type {\n",
       "        vertical-align: middle;\n",
       "    }\n",
       "\n",
       "    .dataframe tbody tr th {\n",
       "        vertical-align: top;\n",
       "    }\n",
       "\n",
       "    .dataframe thead th {\n",
       "        text-align: right;\n",
       "    }\n",
       "</style>\n",
       "<table border=\"1\" class=\"dataframe\">\n",
       "  <thead>\n",
       "    <tr style=\"text-align: right;\">\n",
       "      <th></th>\n",
       "      <th>Vehicle Class</th>\n",
       "      <th>Coverage</th>\n",
       "      <th>Renew Offer Type</th>\n",
       "      <th>EmploymentStatus</th>\n",
       "      <th>Marital Status</th>\n",
       "      <th>Education</th>\n",
       "      <th>Number of Policies</th>\n",
       "      <th>Monthly Premium Auto</th>\n",
       "      <th>Total Claim Amount</th>\n",
       "      <th>Income</th>\n",
       "      <th>Customer Lifetime Value</th>\n",
       "    </tr>\n",
       "  </thead>\n",
       "  <tbody>\n",
       "    <tr>\n",
       "      <th>0</th>\n",
       "      <td>Four-Door Car</td>\n",
       "      <td>Extended</td>\n",
       "      <td>Offer1</td>\n",
       "      <td>Retired</td>\n",
       "      <td>Divorced</td>\n",
       "      <td>High School or Below</td>\n",
       "      <td>2.0</td>\n",
       "      <td>90.0</td>\n",
       "      <td>571.479602</td>\n",
       "      <td>11828.0</td>\n",
       "      <td>10083.486880</td>\n",
       "    </tr>\n",
       "    <tr>\n",
       "      <th>1</th>\n",
       "      <td>Four-Door Car</td>\n",
       "      <td>Basic</td>\n",
       "      <td>Offer1</td>\n",
       "      <td>Employed</td>\n",
       "      <td>Married</td>\n",
       "      <td>College</td>\n",
       "      <td>6.0</td>\n",
       "      <td>62.0</td>\n",
       "      <td>114.514440</td>\n",
       "      <td>44762.0</td>\n",
       "      <td>4943.386117</td>\n",
       "    </tr>\n",
       "    <tr>\n",
       "      <th>2</th>\n",
       "      <td>Two-Door Car</td>\n",
       "      <td>Basic</td>\n",
       "      <td>Offer1</td>\n",
       "      <td>Retired</td>\n",
       "      <td>Married</td>\n",
       "      <td>Master</td>\n",
       "      <td>2.0</td>\n",
       "      <td>62.0</td>\n",
       "      <td>257.248789</td>\n",
       "      <td>21514.0</td>\n",
       "      <td>11981.984810</td>\n",
       "    </tr>\n",
       "    <tr>\n",
       "      <th>3</th>\n",
       "      <td>Four-Door Car</td>\n",
       "      <td>Premium</td>\n",
       "      <td>Offer3</td>\n",
       "      <td>Disabled</td>\n",
       "      <td>Married</td>\n",
       "      <td>High School or Below</td>\n",
       "      <td>1.0</td>\n",
       "      <td>116.0</td>\n",
       "      <td>556.800000</td>\n",
       "      <td>17913.0</td>\n",
       "      <td>4550.856045</td>\n",
       "    </tr>\n",
       "    <tr>\n",
       "      <th>4</th>\n",
       "      <td>Two-Door Car</td>\n",
       "      <td>Basic</td>\n",
       "      <td>Offer3</td>\n",
       "      <td>Medical Leave</td>\n",
       "      <td>Married</td>\n",
       "      <td>High School or Below</td>\n",
       "      <td>1.0</td>\n",
       "      <td>62.0</td>\n",
       "      <td>355.820799</td>\n",
       "      <td>19030.0</td>\n",
       "      <td>2372.155492</td>\n",
       "    </tr>\n",
       "  </tbody>\n",
       "</table>\n",
       "</div>"
      ],
      "text/plain": [
       "   Vehicle Class  Coverage Renew Offer Type EmploymentStatus Marital Status  \\\n",
       "0  Four-Door Car  Extended           Offer1          Retired       Divorced   \n",
       "1  Four-Door Car     Basic           Offer1         Employed        Married   \n",
       "2   Two-Door Car     Basic           Offer1          Retired        Married   \n",
       "3  Four-Door Car   Premium           Offer3         Disabled        Married   \n",
       "4   Two-Door Car     Basic           Offer3    Medical Leave        Married   \n",
       "\n",
       "              Education  Number of Policies  Monthly Premium Auto  \\\n",
       "0  High School or Below                 2.0                  90.0   \n",
       "1               College                 6.0                  62.0   \n",
       "2                Master                 2.0                  62.0   \n",
       "3  High School or Below                 1.0                 116.0   \n",
       "4  High School or Below                 1.0                  62.0   \n",
       "\n",
       "   Total Claim Amount   Income  Customer Lifetime Value  \n",
       "0          571.479602  11828.0             10083.486880  \n",
       "1          114.514440  44762.0              4943.386117  \n",
       "2          257.248789  21514.0             11981.984810  \n",
       "3          556.800000  17913.0              4550.856045  \n",
       "4          355.820799  19030.0              2372.155492  "
      ]
     },
     "execution_count": 3,
     "metadata": {},
     "output_type": "execute_result"
    }
   ],
   "source": [
    "# Create Dataset Duplicate\n",
    "df1=data.copy()\n",
    "df1.head()"
   ]
  },
  {
   "cell_type": "markdown",
   "id": "14fd1cc2",
   "metadata": {},
   "source": [
    "### **Exploratory Data Analysis**"
   ]
  },
  {
   "cell_type": "code",
   "execution_count": 4,
   "id": "258272d5",
   "metadata": {},
   "outputs": [
    {
     "name": "stdout",
     "output_type": "stream",
     "text": [
      "\u001b[1mValue Counts Vehicle Class\u001b[0m\n",
      "Four-Door Car    2858\n",
      "Two-Door Car     1186\n",
      "SUV              1096\n",
      "Sports Car        307\n",
      "Luxury SUV        115\n",
      "Luxury Car        107\n",
      "Name: Vehicle Class, dtype: int64\n",
      "\n",
      "\u001b[1mValue Counts Coverage\u001b[0m\n",
      "Basic       3477\n",
      "Extended    1704\n",
      "Premium      488\n",
      "Name: Coverage, dtype: int64\n",
      "\n",
      "\u001b[1mValue Counts Renew Offer Type\u001b[0m\n",
      "Offer1    2292\n",
      "Offer2    1835\n",
      "Offer3     900\n",
      "Offer4     642\n",
      "Name: Renew Offer Type, dtype: int64\n",
      "\n",
      "\u001b[1mValue Counts EmploymentStatus\u001b[0m\n",
      "Employed         3541\n",
      "Unemployed       1429\n",
      "Medical Leave     267\n",
      "Disabled          252\n",
      "Retired           180\n",
      "Name: EmploymentStatus, dtype: int64\n",
      "\n",
      "\u001b[1mValue Counts Marital Status\u001b[0m\n",
      "Married     3305\n",
      "Single      1514\n",
      "Divorced     850\n",
      "Name: Marital Status, dtype: int64\n",
      "\n",
      "\u001b[1mValue Counts Education\u001b[0m\n",
      "Bachelor                1703\n",
      "College                 1660\n",
      "High School or Below    1620\n",
      "Master                   460\n",
      "Doctor                   226\n",
      "Name: Education, dtype: int64\n",
      "\n"
     ]
    }
   ],
   "source": [
    "data_cols=df1.select_dtypes(include='object')\n",
    "for col in data_cols:\n",
    "    print('''\\033[1mValue Counts {}\\033[0m'''.format(col))\n",
    "    print(data_cols[col].value_counts())\n",
    "    print()"
   ]
  },
  {
   "cell_type": "markdown",
   "id": "e86f858a",
   "metadata": {},
   "source": [
    "Di atas merupakan gambaran singkat karakteristik pelanggan asuransi PT ABC. Sebagian besar pelanggan menggunakan asuransi untuk mobil 4 pintu ; menggunakan Basic Coverage ; memilih Offer1 sebagai Renew Offer Type ; memiliki pekerjaan ; menikah ; dan merupakan lulusan sarjana."
   ]
  },
  {
   "cell_type": "code",
   "execution_count": 5,
   "id": "8fa21f37",
   "metadata": {},
   "outputs": [
    {
     "data": {
      "text/plain": [
       "<matplotlib.legend.Legend at 0x1c7ae6eec40>"
      ]
     },
     "execution_count": 5,
     "metadata": {},
     "output_type": "execute_result"
    },
    {
     "data": {
      "image/png": "[encoded data removed]",
      "text/plain": [
       "<Figure size 720x720 with 1 Axes>"
      ]
     },
     "metadata": {},
     "output_type": "display_data"
    }
   ],
   "source": [
    "df_vc=df1['Vehicle Class'].value_counts()\n",
    "def autopct_format(values):\n",
    "        def my_format(pct):\n",
    "            total = sum(values)\n",
    "            val = int(round(pct*total/100.0))\n",
    "            return '{:.1f}%\\n({v:d})'.format(pct, v=val)\n",
    "        return my_format\n",
    "plt.figure(figsize=(10,10))\n",
    "plt.pie(df_vc,autopct=autopct_format(df_vc))\n",
    "plt.legend(df_vc.index)"
   ]
  },
  {
   "cell_type": "markdown",
   "id": "b7884293",
   "metadata": {},
   "source": [
    "Berdasarkan pie chart di atas, setengah pelanggan PT ABC menggunakan asuransi untuk produk mobil 4 pintu (50.4%). Sebagian besar pelanggan lainnya menggunakan asuransi untuk produk mobil 2 pintu (20.9%) dan juga SUV (19.3%)"
   ]
  },
  {
   "cell_type": "code",
   "execution_count": 6,
   "id": "b68b95ee",
   "metadata": {},
   "outputs": [
    {
     "data": {
      "text/plain": [
       "<matplotlib.legend.Legend at 0x1c7b0cba430>"
      ]
     },
     "execution_count": 6,
     "metadata": {},
     "output_type": "execute_result"
    },
    {
     "data": {
      "image/png": "[encoded data removed]",
      "text/plain": [
       "<Figure size 720x720 with 1 Axes>"
      ]
     },
     "metadata": {},
     "output_type": "display_data"
    }
   ],
   "source": [
    "df_c=df1['Coverage'].value_counts()\n",
    "def autopct_format(values):\n",
    "        def my_format(pct):\n",
    "            total = sum(values)\n",
    "            val = int(round(pct*total/100.0))\n",
    "            return '{:.1f}%\\n({v:d})'.format(pct, v=val)\n",
    "        return my_format\n",
    "plt.figure(figsize=(10,10))\n",
    "plt.pie(df_c,autopct=autopct_format(df_c))\n",
    "plt.legend(df_c.index)"
   ]
  },
  {
   "cell_type": "markdown",
   "id": "db431fe2",
   "metadata": {},
   "source": [
    "Berdasarkan pie chart di atas, lebih dari setengah pelanggan PT ABC menggunakan Basic Coverage (61.3%) dan sebagian besar lainnya menggunakan Extended Coverage (30.1%)."
   ]
  },
  {
   "cell_type": "code",
   "execution_count": 7,
   "id": "398ff7d6",
   "metadata": {},
   "outputs": [
    {
     "data": {
      "text/plain": [
       "<matplotlib.legend.Legend at 0x1c7b0cb1cd0>"
      ]
     },
     "execution_count": 7,
     "metadata": {},
     "output_type": "execute_result"
    },
    {
     "data": {
      "image/png": "[encoded data removed]",
      "text/plain": [
       "<Figure size 720x720 with 1 Axes>"
      ]
     },
     "metadata": {},
     "output_type": "display_data"
    }
   ],
   "source": [
    "df_ro=df1['Renew Offer Type'].value_counts()\n",
    "def autopct_format(values):\n",
    "        def my_format(pct):\n",
    "            total = sum(values)\n",
    "            val = int(round(pct*total/100.0))\n",
    "            return '{:.1f}%\\n({v:d})'.format(pct, v=val)\n",
    "        return my_format\n",
    "plt.figure(figsize=(10,10))\n",
    "plt.pie(df_ro,autopct=autopct_format(df_ro))\n",
    "plt.legend(df_ro.index)"
   ]
  },
  {
   "cell_type": "markdown",
   "id": "d87d0dae",
   "metadata": {},
   "source": [
    "Berdasarkan pie chart di atas, sebagian besar pelanggan PT ABC menggunakan Offer1 (40.4%) dan Offer2 (32.4%) sebagai Renew Offer Type"
   ]
  },
  {
   "cell_type": "code",
   "execution_count": 8,
   "id": "ac4b3616",
   "metadata": {},
   "outputs": [
    {
     "data": {
      "text/plain": [
       "<matplotlib.legend.Legend at 0x1c7b09aca90>"
      ]
     },
     "execution_count": 8,
     "metadata": {},
     "output_type": "execute_result"
    },
    {
     "data": {
      "image/png": "[encoded data removed]",
      "text/plain": [
       "<Figure size 720x720 with 1 Axes>"
      ]
     },
     "metadata": {},
     "output_type": "display_data"
    }
   ],
   "source": [
    "df_es=df1['EmploymentStatus'].value_counts()\n",
    "def autopct_format(values):\n",
    "        def my_format(pct):\n",
    "            total = sum(values)\n",
    "            val = int(round(pct*total/100.0))\n",
    "            return '{:.1f}%\\n({v:d})'.format(pct, v=val)\n",
    "        return my_format\n",
    "plt.figure(figsize=(10,10))\n",
    "plt.pie(df_es,autopct=autopct_format(df_es))\n",
    "plt.legend(df_es.index)"
   ]
  },
  {
   "cell_type": "markdown",
   "id": "e8b7a441",
   "metadata": {},
   "source": [
    "Berdasarkan pie chart di atas, sebagian besar pelanggan PT ABC memiliki pekerjaan (62.5%). Minoritas yang signifikan lainnya merupakan pengganguran (25.2%)."
   ]
  },
  {
   "cell_type": "code",
   "execution_count": 9,
   "id": "9a82c361",
   "metadata": {},
   "outputs": [
    {
     "data": {
      "text/plain": [
       "<matplotlib.legend.Legend at 0x1c7b0d31a00>"
      ]
     },
     "execution_count": 9,
     "metadata": {},
     "output_type": "execute_result"
    },
    {
     "data": {
      "image/png": "[encoded data removed]",
      "text/plain": [
       "<Figure size 720x720 with 1 Axes>"
      ]
     },
     "metadata": {},
     "output_type": "display_data"
    }
   ],
   "source": [
    "df_ms=df1['Marital Status'].value_counts()\n",
    "def autopct_format(values):\n",
    "        def my_format(pct):\n",
    "            total = sum(values)\n",
    "            val = int(round(pct*total/100.0))\n",
    "            return '{:.1f}%\\n({v:d})'.format(pct, v=val)\n",
    "        return my_format\n",
    "plt.figure(figsize=(10,10))\n",
    "plt.pie(df_ms,autopct=autopct_format(df_ms))\n",
    "plt.legend(df_ms.index)"
   ]
  },
  {
   "cell_type": "markdown",
   "id": "9901818e",
   "metadata": {},
   "source": [
    "Berdasarkan pie chart di atas, sebagian besar pelanggan PT ABC telah menikah (58.3%)."
   ]
  },
  {
   "cell_type": "code",
   "execution_count": 10,
   "id": "776d4485",
   "metadata": {},
   "outputs": [
    {
     "data": {
      "text/plain": [
       "<matplotlib.legend.Legend at 0x1c7b0eda070>"
      ]
     },
     "execution_count": 10,
     "metadata": {},
     "output_type": "execute_result"
    },
    {
     "data": {
      "image/png": "[encoded data removed]",
      "text/plain": [
       "<Figure size 720x720 with 1 Axes>"
      ]
     },
     "metadata": {},
     "output_type": "display_data"
    }
   ],
   "source": [
    "df_e=df1['Education'].value_counts()\n",
    "def autopct_format(values):\n",
    "        def my_format(pct):\n",
    "            total = sum(values)\n",
    "            val = int(round(pct*total/100.0))\n",
    "            return '{:.1f}%\\n({v:d})'.format(pct, v=val)\n",
    "        return my_format\n",
    "plt.figure(figsize=(10,10))\n",
    "plt.pie(df_e,autopct=autopct_format(df_e))\n",
    "plt.legend(df_e.index)"
   ]
  },
  {
   "cell_type": "markdown",
   "id": "1f9283ae",
   "metadata": {},
   "source": [
    "Berdasarkan pie chart di atas, sebagian besar pelanggan PT ABC merupakan lulusan sarjana Bachelor (30.0%), sarjana College (29.3%), dan SMA ke bawah (28.6%)."
   ]
  },
  {
   "cell_type": "code",
   "execution_count": 11,
   "id": "0e143102",
   "metadata": {},
   "outputs": [
    {
     "data": {
      "text/html": [
       "<div>\n",
       "<style scoped>\n",
       "    .dataframe tbody tr th:only-of-type {\n",
       "        vertical-align: middle;\n",
       "    }\n",
       "\n",
       "    .dataframe tbody tr th {\n",
       "        vertical-align: top;\n",
       "    }\n",
       "\n",
       "    .dataframe thead th {\n",
       "        text-align: right;\n",
       "    }\n",
       "</style>\n",
       "<table border=\"1\" class=\"dataframe\">\n",
       "  <thead>\n",
       "    <tr style=\"text-align: right;\">\n",
       "      <th></th>\n",
       "      <th>Vehicle Class</th>\n",
       "      <th>Coverage</th>\n",
       "      <th>Renew Offer Type</th>\n",
       "      <th>EmploymentStatus</th>\n",
       "      <th>Marital Status</th>\n",
       "      <th>Education</th>\n",
       "      <th>Customer Lifetime Value</th>\n",
       "    </tr>\n",
       "  </thead>\n",
       "  <tbody>\n",
       "    <tr>\n",
       "      <th>0</th>\n",
       "      <td>Four-Door Car</td>\n",
       "      <td>Extended</td>\n",
       "      <td>Offer1</td>\n",
       "      <td>Retired</td>\n",
       "      <td>Divorced</td>\n",
       "      <td>High School or Below</td>\n",
       "      <td>10083.486880</td>\n",
       "    </tr>\n",
       "    <tr>\n",
       "      <th>1</th>\n",
       "      <td>Four-Door Car</td>\n",
       "      <td>Basic</td>\n",
       "      <td>Offer1</td>\n",
       "      <td>Employed</td>\n",
       "      <td>Married</td>\n",
       "      <td>College</td>\n",
       "      <td>4943.386117</td>\n",
       "    </tr>\n",
       "    <tr>\n",
       "      <th>2</th>\n",
       "      <td>Two-Door Car</td>\n",
       "      <td>Basic</td>\n",
       "      <td>Offer1</td>\n",
       "      <td>Retired</td>\n",
       "      <td>Married</td>\n",
       "      <td>Master</td>\n",
       "      <td>11981.984810</td>\n",
       "    </tr>\n",
       "    <tr>\n",
       "      <th>3</th>\n",
       "      <td>Four-Door Car</td>\n",
       "      <td>Premium</td>\n",
       "      <td>Offer3</td>\n",
       "      <td>Disabled</td>\n",
       "      <td>Married</td>\n",
       "      <td>High School or Below</td>\n",
       "      <td>4550.856045</td>\n",
       "    </tr>\n",
       "    <tr>\n",
       "      <th>4</th>\n",
       "      <td>Two-Door Car</td>\n",
       "      <td>Basic</td>\n",
       "      <td>Offer3</td>\n",
       "      <td>Medical Leave</td>\n",
       "      <td>Married</td>\n",
       "      <td>High School or Below</td>\n",
       "      <td>2372.155492</td>\n",
       "    </tr>\n",
       "  </tbody>\n",
       "</table>\n",
       "</div>"
      ],
      "text/plain": [
       "   Vehicle Class  Coverage Renew Offer Type EmploymentStatus Marital Status  \\\n",
       "0  Four-Door Car  Extended           Offer1          Retired       Divorced   \n",
       "1  Four-Door Car     Basic           Offer1         Employed        Married   \n",
       "2   Two-Door Car     Basic           Offer1          Retired        Married   \n",
       "3  Four-Door Car   Premium           Offer3         Disabled        Married   \n",
       "4   Two-Door Car     Basic           Offer3    Medical Leave        Married   \n",
       "\n",
       "              Education  Customer Lifetime Value  \n",
       "0  High School or Below             10083.486880  \n",
       "1               College              4943.386117  \n",
       "2                Master             11981.984810  \n",
       "3  High School or Below              4550.856045  \n",
       "4  High School or Below              2372.155492  "
      ]
     },
     "execution_count": 11,
     "metadata": {},
     "output_type": "execute_result"
    }
   ],
   "source": [
    "# CLV Based on Customer's characteristics\n",
    "data_clv = df1.select_dtypes(\"object\")\n",
    "CLV = df1[\"Customer Lifetime Value\"]\n",
    "data_clv = data_clv.join(CLV)\n",
    "data_clv.head()"
   ]
  },
  {
   "cell_type": "code",
   "execution_count": 12,
   "id": "e05d2de6",
   "metadata": {},
   "outputs": [
    {
     "data": {
      "text/html": [
       "<div>\n",
       "<style scoped>\n",
       "    .dataframe tbody tr th:only-of-type {\n",
       "        vertical-align: middle;\n",
       "    }\n",
       "\n",
       "    .dataframe tbody tr th {\n",
       "        vertical-align: top;\n",
       "    }\n",
       "\n",
       "    .dataframe thead th {\n",
       "        text-align: right;\n",
       "    }\n",
       "</style>\n",
       "<table border=\"1\" class=\"dataframe\">\n",
       "  <thead>\n",
       "    <tr style=\"text-align: right;\">\n",
       "      <th></th>\n",
       "      <th>Customer Lifetime Value</th>\n",
       "    </tr>\n",
       "    <tr>\n",
       "      <th>Vehicle Class</th>\n",
       "      <th></th>\n",
       "    </tr>\n",
       "  </thead>\n",
       "  <tbody>\n",
       "    <tr>\n",
       "      <th>Luxury SUV</th>\n",
       "      <td>17730.511533</td>\n",
       "    </tr>\n",
       "    <tr>\n",
       "      <th>Luxury Car</th>\n",
       "      <td>16779.425415</td>\n",
       "    </tr>\n",
       "    <tr>\n",
       "      <th>Sports Car</th>\n",
       "      <td>11121.754994</td>\n",
       "    </tr>\n",
       "    <tr>\n",
       "      <th>SUV</th>\n",
       "      <td>10369.130854</td>\n",
       "    </tr>\n",
       "    <tr>\n",
       "      <th>Two-Door Car</th>\n",
       "      <td>6684.448077</td>\n",
       "    </tr>\n",
       "    <tr>\n",
       "      <th>Four-Door Car</th>\n",
       "      <td>6641.095206</td>\n",
       "    </tr>\n",
       "  </tbody>\n",
       "</table>\n",
       "</div>"
      ],
      "text/plain": [
       "               Customer Lifetime Value\n",
       "Vehicle Class                         \n",
       "Luxury SUV                17730.511533\n",
       "Luxury Car                16779.425415\n",
       "Sports Car                11121.754994\n",
       "SUV                       10369.130854\n",
       "Two-Door Car               6684.448077\n",
       "Four-Door Car              6641.095206"
      ]
     },
     "execution_count": 12,
     "metadata": {},
     "output_type": "execute_result"
    }
   ],
   "source": [
    "data_clv.groupby([\"Vehicle Class\"]).mean().sort_values(by=\"Customer Lifetime Value\", ascending=False)"
   ]
  },
  {
   "cell_type": "markdown",
   "id": "91eba22d",
   "metadata": {},
   "source": [
    "Berdasarkan tabel di atas, terlihat pelanggan dengan asuransi mobil- mobil premium memiliki nilai rata-rata CLV yang paling tinggi."
   ]
  },
  {
   "cell_type": "code",
   "execution_count": 13,
   "id": "1c05ecdf",
   "metadata": {},
   "outputs": [
    {
     "data": {
      "text/html": [
       "<div>\n",
       "<style scoped>\n",
       "    .dataframe tbody tr th:only-of-type {\n",
       "        vertical-align: middle;\n",
       "    }\n",
       "\n",
       "    .dataframe tbody tr th {\n",
       "        vertical-align: top;\n",
       "    }\n",
       "\n",
       "    .dataframe thead th {\n",
       "        text-align: right;\n",
       "    }\n",
       "</style>\n",
       "<table border=\"1\" class=\"dataframe\">\n",
       "  <thead>\n",
       "    <tr style=\"text-align: right;\">\n",
       "      <th></th>\n",
       "      <th>Customer Lifetime Value</th>\n",
       "    </tr>\n",
       "    <tr>\n",
       "      <th>Coverage</th>\n",
       "      <th></th>\n",
       "    </tr>\n",
       "  </thead>\n",
       "  <tbody>\n",
       "    <tr>\n",
       "      <th>Premium</th>\n",
       "      <td>11193.719330</td>\n",
       "    </tr>\n",
       "    <tr>\n",
       "      <th>Extended</th>\n",
       "      <td>8839.082524</td>\n",
       "    </tr>\n",
       "    <tr>\n",
       "      <th>Basic</th>\n",
       "      <td>7189.251484</td>\n",
       "    </tr>\n",
       "  </tbody>\n",
       "</table>\n",
       "</div>"
      ],
      "text/plain": [
       "          Customer Lifetime Value\n",
       "Coverage                         \n",
       "Premium              11193.719330\n",
       "Extended              8839.082524\n",
       "Basic                 7189.251484"
      ]
     },
     "execution_count": 13,
     "metadata": {},
     "output_type": "execute_result"
    }
   ],
   "source": [
    "data_clv.groupby([\"Coverage\"]).mean().sort_values(by=\"Customer Lifetime Value\", ascending=False)"
   ]
  },
  {
   "cell_type": "markdown",
   "id": "b0980879",
   "metadata": {},
   "source": [
    "Berdasarkan tabel di atas, terlihat pelanggan dengan Coverage Premium memiliki nilai rata-rata CLV yang paling tinggi."
   ]
  },
  {
   "cell_type": "code",
   "execution_count": 14,
   "id": "aea64d90",
   "metadata": {},
   "outputs": [
    {
     "data": {
      "text/html": [
       "<div>\n",
       "<style scoped>\n",
       "    .dataframe tbody tr th:only-of-type {\n",
       "        vertical-align: middle;\n",
       "    }\n",
       "\n",
       "    .dataframe tbody tr th {\n",
       "        vertical-align: top;\n",
       "    }\n",
       "\n",
       "    .dataframe thead th {\n",
       "        text-align: right;\n",
       "    }\n",
       "</style>\n",
       "<table border=\"1\" class=\"dataframe\">\n",
       "  <thead>\n",
       "    <tr style=\"text-align: right;\">\n",
       "      <th></th>\n",
       "      <th>Customer Lifetime Value</th>\n",
       "    </tr>\n",
       "    <tr>\n",
       "      <th>Renew Offer Type</th>\n",
       "      <th></th>\n",
       "    </tr>\n",
       "  </thead>\n",
       "  <tbody>\n",
       "    <tr>\n",
       "      <th>Offer1</th>\n",
       "      <td>8856.048788</td>\n",
       "    </tr>\n",
       "    <tr>\n",
       "      <th>Offer3</th>\n",
       "      <td>7825.712667</td>\n",
       "    </tr>\n",
       "    <tr>\n",
       "      <th>Offer2</th>\n",
       "      <td>7342.326562</td>\n",
       "    </tr>\n",
       "    <tr>\n",
       "      <th>Offer4</th>\n",
       "      <td>7331.751712</td>\n",
       "    </tr>\n",
       "  </tbody>\n",
       "</table>\n",
       "</div>"
      ],
      "text/plain": [
       "                  Customer Lifetime Value\n",
       "Renew Offer Type                         \n",
       "Offer1                        8856.048788\n",
       "Offer3                        7825.712667\n",
       "Offer2                        7342.326562\n",
       "Offer4                        7331.751712"
      ]
     },
     "execution_count": 14,
     "metadata": {},
     "output_type": "execute_result"
    }
   ],
   "source": [
    "data_clv.groupby([\"Renew Offer Type\"]).mean().sort_values(by=\"Customer Lifetime Value\", ascending=False)"
   ]
  },
  {
   "cell_type": "markdown",
   "id": "b788c388",
   "metadata": {},
   "source": [
    "Berdasarkan tabel di atas, terlihat pelanggan dengan Offer1 sebagai Renew Offer Type memiliki nilai rata-rata CLV yang paling tinggi."
   ]
  },
  {
   "cell_type": "code",
   "execution_count": 15,
   "id": "44630d92",
   "metadata": {},
   "outputs": [
    {
     "data": {
      "text/html": [
       "<div>\n",
       "<style scoped>\n",
       "    .dataframe tbody tr th:only-of-type {\n",
       "        vertical-align: middle;\n",
       "    }\n",
       "\n",
       "    .dataframe tbody tr th {\n",
       "        vertical-align: top;\n",
       "    }\n",
       "\n",
       "    .dataframe thead th {\n",
       "        text-align: right;\n",
       "    }\n",
       "</style>\n",
       "<table border=\"1\" class=\"dataframe\">\n",
       "  <thead>\n",
       "    <tr style=\"text-align: right;\">\n",
       "      <th></th>\n",
       "      <th>Customer Lifetime Value</th>\n",
       "    </tr>\n",
       "    <tr>\n",
       "      <th>EmploymentStatus</th>\n",
       "      <th></th>\n",
       "    </tr>\n",
       "  </thead>\n",
       "  <tbody>\n",
       "    <tr>\n",
       "      <th>Employed</th>\n",
       "      <td>8216.722403</td>\n",
       "    </tr>\n",
       "    <tr>\n",
       "      <th>Medical Leave</th>\n",
       "      <td>8048.676877</td>\n",
       "    </tr>\n",
       "    <tr>\n",
       "      <th>Disabled</th>\n",
       "      <td>7776.810758</td>\n",
       "    </tr>\n",
       "    <tr>\n",
       "      <th>Unemployed</th>\n",
       "      <td>7684.433265</td>\n",
       "    </tr>\n",
       "    <tr>\n",
       "      <th>Retired</th>\n",
       "      <td>7422.982546</td>\n",
       "    </tr>\n",
       "  </tbody>\n",
       "</table>\n",
       "</div>"
      ],
      "text/plain": [
       "                  Customer Lifetime Value\n",
       "EmploymentStatus                         \n",
       "Employed                      8216.722403\n",
       "Medical Leave                 8048.676877\n",
       "Disabled                      7776.810758\n",
       "Unemployed                    7684.433265\n",
       "Retired                       7422.982546"
      ]
     },
     "execution_count": 15,
     "metadata": {},
     "output_type": "execute_result"
    }
   ],
   "source": [
    "data_clv.groupby([\"EmploymentStatus\"]).mean().sort_values(by=\"Customer Lifetime Value\", ascending=False)"
   ]
  },
  {
   "cell_type": "markdown",
   "id": "ffbdc807",
   "metadata": {},
   "source": [
    "Berdasarkan tabel di atas, terlihat pelanggan yang memiliki pekerjaan dan yang sedang dalam cuti terkait medis memiliki nilai rata-rata CLV yang paling tinggi."
   ]
  },
  {
   "cell_type": "code",
   "execution_count": 16,
   "id": "2cf9b9fd",
   "metadata": {},
   "outputs": [
    {
     "data": {
      "text/html": [
       "<div>\n",
       "<style scoped>\n",
       "    .dataframe tbody tr th:only-of-type {\n",
       "        vertical-align: middle;\n",
       "    }\n",
       "\n",
       "    .dataframe tbody tr th {\n",
       "        vertical-align: top;\n",
       "    }\n",
       "\n",
       "    .dataframe thead th {\n",
       "        text-align: right;\n",
       "    }\n",
       "</style>\n",
       "<table border=\"1\" class=\"dataframe\">\n",
       "  <thead>\n",
       "    <tr style=\"text-align: right;\">\n",
       "      <th></th>\n",
       "      <th>Customer Lifetime Value</th>\n",
       "    </tr>\n",
       "    <tr>\n",
       "      <th>Marital Status</th>\n",
       "      <th></th>\n",
       "    </tr>\n",
       "  </thead>\n",
       "  <tbody>\n",
       "    <tr>\n",
       "      <th>Divorced</th>\n",
       "      <td>8137.936204</td>\n",
       "    </tr>\n",
       "    <tr>\n",
       "      <th>Married</th>\n",
       "      <td>8089.119462</td>\n",
       "    </tr>\n",
       "    <tr>\n",
       "      <th>Single</th>\n",
       "      <td>7839.876794</td>\n",
       "    </tr>\n",
       "  </tbody>\n",
       "</table>\n",
       "</div>"
      ],
      "text/plain": [
       "                Customer Lifetime Value\n",
       "Marital Status                         \n",
       "Divorced                    8137.936204\n",
       "Married                     8089.119462\n",
       "Single                      7839.876794"
      ]
     },
     "execution_count": 16,
     "metadata": {},
     "output_type": "execute_result"
    }
   ],
   "source": [
    "data_clv.groupby([\"Marital Status\"]).mean().sort_values(by=\"Customer Lifetime Value\", ascending=False)"
   ]
  },
  {
   "cell_type": "markdown",
   "id": "4287c9f2",
   "metadata": {},
   "source": [
    "Berdasarkan tabel di atas, terlihat pelanggan yang sudah bercerai memiliki nilai rata-rata CLV yang paling tinggi."
   ]
  },
  {
   "cell_type": "code",
   "execution_count": 17,
   "id": "f3c4880f",
   "metadata": {},
   "outputs": [
    {
     "data": {
      "text/html": [
       "<div>\n",
       "<style scoped>\n",
       "    .dataframe tbody tr th:only-of-type {\n",
       "        vertical-align: middle;\n",
       "    }\n",
       "\n",
       "    .dataframe tbody tr th {\n",
       "        vertical-align: top;\n",
       "    }\n",
       "\n",
       "    .dataframe thead th {\n",
       "        text-align: right;\n",
       "    }\n",
       "</style>\n",
       "<table border=\"1\" class=\"dataframe\">\n",
       "  <thead>\n",
       "    <tr style=\"text-align: right;\">\n",
       "      <th></th>\n",
       "      <th>Customer Lifetime Value</th>\n",
       "    </tr>\n",
       "    <tr>\n",
       "      <th>Education</th>\n",
       "      <th></th>\n",
       "    </tr>\n",
       "  </thead>\n",
       "  <tbody>\n",
       "    <tr>\n",
       "      <th>Master</th>\n",
       "      <td>8828.979265</td>\n",
       "    </tr>\n",
       "    <tr>\n",
       "      <th>High School or Below</th>\n",
       "      <td>8336.051642</td>\n",
       "    </tr>\n",
       "    <tr>\n",
       "      <th>Bachelor</th>\n",
       "      <td>7852.599042</td>\n",
       "    </tr>\n",
       "    <tr>\n",
       "      <th>College</th>\n",
       "      <td>7738.212365</td>\n",
       "    </tr>\n",
       "    <tr>\n",
       "      <th>Doctor</th>\n",
       "      <td>7686.797546</td>\n",
       "    </tr>\n",
       "  </tbody>\n",
       "</table>\n",
       "</div>"
      ],
      "text/plain": [
       "                      Customer Lifetime Value\n",
       "Education                                    \n",
       "Master                            8828.979265\n",
       "High School or Below              8336.051642\n",
       "Bachelor                          7852.599042\n",
       "College                           7738.212365\n",
       "Doctor                            7686.797546"
      ]
     },
     "execution_count": 17,
     "metadata": {},
     "output_type": "execute_result"
    }
   ],
   "source": [
    "data_clv.groupby([\"Education\"]).mean().sort_values(by=\"Customer Lifetime Value\", ascending=False)"
   ]
  },
  {
   "cell_type": "markdown",
   "id": "036ec82e",
   "metadata": {},
   "source": [
    "Berdasarkan tabel di atas, terlihat pelanggan yang memiliki gelar Master (lulusan S2) nilai rata-rata CLV yang paling tinggi."
   ]
  },
  {
   "cell_type": "code",
   "execution_count": 18,
   "id": "07c2cf76",
   "metadata": {},
   "outputs": [
    {
     "data": {
      "text/plain": [
       "<AxesSubplot:xlabel='Customer Lifetime Value', ylabel='Monthly Premium Auto'>"
      ]
     },
     "execution_count": 18,
     "metadata": {},
     "output_type": "execute_result"
    },
    {
     "data": {
      "image/png": "[encoded data removed]",
      "text/plain": [
       "<Figure size 432x288 with 1 Axes>"
      ]
     },
     "metadata": {
      "needs_background": "light"
     },
     "output_type": "display_data"
    }
   ],
   "source": [
    "sns.scatterplot(x='Customer Lifetime Value',y='Monthly Premium Auto',data=df1)"
   ]
  },
  {
   "cell_type": "code",
   "execution_count": 19,
   "id": "b973a3d3",
   "metadata": {},
   "outputs": [
    {
     "data": {
      "text/plain": [
       "<AxesSubplot:xlabel='Customer Lifetime Value', ylabel='Total Claim Amount'>"
      ]
     },
     "execution_count": 19,
     "metadata": {},
     "output_type": "execute_result"
    },
    {
     "data": {
      "image/png": "[encoded data removed]",
      "text/plain": [
       "<Figure size 432x288 with 1 Axes>"
      ]
     },
     "metadata": {
      "needs_background": "light"
     },
     "output_type": "display_data"
    }
   ],
   "source": [
    "sns.scatterplot(x='Customer Lifetime Value',y='Total Claim Amount',data=df1)"
   ]
  },
  {
   "cell_type": "code",
   "execution_count": 20,
   "id": "8c6df33f",
   "metadata": {},
   "outputs": [
    {
     "data": {
      "text/plain": [
       "<AxesSubplot:xlabel='Customer Lifetime Value', ylabel='Income'>"
      ]
     },
     "execution_count": 20,
     "metadata": {},
     "output_type": "execute_result"
    },
    {
     "data": {
      "image/png": "[encoded data removed]",
      "text/plain": [
       "<Figure size 432x288 with 1 Axes>"
      ]
     },
     "metadata": {
      "needs_background": "light"
     },
     "output_type": "display_data"
    }
   ],
   "source": [
    "sns.scatterplot(x='Customer Lifetime Value',y='Income',data=df1)"
   ]
  },
  {
   "cell_type": "code",
   "execution_count": 21,
   "id": "38573afd",
   "metadata": {},
   "outputs": [
    {
     "data": {
      "text/plain": [
       "<AxesSubplot:xlabel='Customer Lifetime Value', ylabel='Number of Policies'>"
      ]
     },
     "execution_count": 21,
     "metadata": {},
     "output_type": "execute_result"
    },
    {
     "data": {
      "image/png": "[encoded data removed]",
      "text/plain": [
       "<Figure size 432x288 with 1 Axes>"
      ]
     },
     "metadata": {
      "needs_background": "light"
     },
     "output_type": "display_data"
    }
   ],
   "source": [
    "sns.scatterplot(x='Customer Lifetime Value',y='Number of Policies',data=df1)"
   ]
  },
  {
   "cell_type": "markdown",
   "id": "b43af700",
   "metadata": {},
   "source": [
    "Berdasarkan grafik- grafik scatterplot di atas, terlihat pola sebaran variabel- variabel numerik yang ada (Number of Policies, Income, Total Claim Amount, dan Monthly Premium Auto) dibandingkan Customer Lifetime Value cenderung acak. Namun, terlihat pola linier antara Monthly Premium Auto dan juga CLV."
   ]
  },
  {
   "cell_type": "code",
   "execution_count": 22,
   "id": "f05cdce6",
   "metadata": {},
   "outputs": [
    {
     "data": {
      "text/html": [
       "<div>\n",
       "<style scoped>\n",
       "    .dataframe tbody tr th:only-of-type {\n",
       "        vertical-align: middle;\n",
       "    }\n",
       "\n",
       "    .dataframe tbody tr th {\n",
       "        vertical-align: top;\n",
       "    }\n",
       "\n",
       "    .dataframe thead th {\n",
       "        text-align: right;\n",
       "    }\n",
       "</style>\n",
       "<table border=\"1\" class=\"dataframe\">\n",
       "  <thead>\n",
       "    <tr style=\"text-align: right;\">\n",
       "      <th></th>\n",
       "      <th>skew</th>\n",
       "    </tr>\n",
       "  </thead>\n",
       "  <tbody>\n",
       "    <tr>\n",
       "      <th>Customer Lifetime Value</th>\n",
       "      <td>3.061107</td>\n",
       "    </tr>\n",
       "    <tr>\n",
       "      <th>Monthly Premium Auto</th>\n",
       "      <td>2.113224</td>\n",
       "    </tr>\n",
       "    <tr>\n",
       "      <th>Total Claim Amount</th>\n",
       "      <td>1.659885</td>\n",
       "    </tr>\n",
       "    <tr>\n",
       "      <th>Number of Policies</th>\n",
       "      <td>1.240110</td>\n",
       "    </tr>\n",
       "    <tr>\n",
       "      <th>Income</th>\n",
       "      <td>0.282771</td>\n",
       "    </tr>\n",
       "  </tbody>\n",
       "</table>\n",
       "</div>"
      ],
      "text/plain": [
       "                             skew\n",
       "Customer Lifetime Value  3.061107\n",
       "Monthly Premium Auto     2.113224\n",
       "Total Claim Amount       1.659885\n",
       "Number of Policies       1.240110\n",
       "Income                   0.282771"
      ]
     },
     "execution_count": 22,
     "metadata": {},
     "output_type": "execute_result"
    }
   ],
   "source": [
    "# Check skewness\n",
    "num_features = df1.dtypes[data.dtypes != 'object'].index\n",
    "skewed_feat = df1[num_features].apply(lambda x: x.skew()).sort_values(ascending = False)\n",
    "skewness = pd.DataFrame(skewed_feat,columns = ['skew'])\n",
    "skewness"
   ]
  },
  {
   "cell_type": "markdown",
   "id": "247c3622",
   "metadata": {},
   "source": [
    "Skewness berguna untuk mendeteksi pola distribusi data numerik. Pola distribusi normal ditunjukkan oleh angka 0. Maka, distribusi tidak normal ditunjukkan oleh angka yang semakin menjauhi nilai 0.  \n",
    "Pada tabel skewness di atas, terlihat hanya variabel **Income** yang menunjukkan distribusi normal sedangkan variabel lainnya menunjukkan nilai positif, yang mengindikasikan data skew ke kanan."
   ]
  },
  {
   "cell_type": "code",
   "execution_count": 23,
   "id": "3aea0a48",
   "metadata": {},
   "outputs": [
    {
     "data": {
      "text/plain": [
       "Text(0.5, 1.0, 'Customer Life Time Value Distribution')"
      ]
     },
     "execution_count": 23,
     "metadata": {},
     "output_type": "execute_result"
    },
    {
     "data": {
      "image/png": "[encoded data removed]",
      "text/plain": [
       "<Figure size 432x288 with 1 Axes>"
      ]
     },
     "metadata": {
      "needs_background": "light"
     },
     "output_type": "display_data"
    }
   ],
   "source": [
    "# Check CLV's skewness\n",
    "from scipy import stats\n",
    "from scipy.stats import norm,skew\n",
    "\n",
    "sns.distplot(df1['Customer Lifetime Value'],fit=norm)\n",
    "\n",
    "plt.ylabel('Frequency')\n",
    "plt.title('Customer Life Time Value Distribution')"
   ]
  },
  {
   "cell_type": "markdown",
   "id": "9ed05299",
   "metadata": {},
   "source": [
    "Angka skewness CLV pada tabel sebelumnya juga dibuktikan oleh distribution plot di atas. Terlihat data CLV menunjukkan skew ke kanan atau positively skewed"
   ]
  },
  {
   "cell_type": "markdown",
   "id": "b8d09237",
   "metadata": {},
   "source": [
    "### **Data Cleaning**"
   ]
  },
  {
   "cell_type": "markdown",
   "id": "4c34f7e9",
   "metadata": {},
   "source": [
    "**Check Data Info and Missing Value**"
   ]
  },
  {
   "cell_type": "code",
   "execution_count": 24,
   "id": "58d9020d",
   "metadata": {},
   "outputs": [
    {
     "name": "stdout",
     "output_type": "stream",
     "text": [
      "\u001b[1m Data Info\u001b[0m\n",
      "<class 'pandas.core.frame.DataFrame'>\n",
      "RangeIndex: 5669 entries, 0 to 5668\n",
      "Data columns (total 11 columns):\n",
      " #   Column                   Non-Null Count  Dtype  \n",
      "---  ------                   --------------  -----  \n",
      " 0   Vehicle Class            5669 non-null   object \n",
      " 1   Coverage                 5669 non-null   object \n",
      " 2   Renew Offer Type         5669 non-null   object \n",
      " 3   EmploymentStatus         5669 non-null   object \n",
      " 4   Marital Status           5669 non-null   object \n",
      " 5   Education                5669 non-null   object \n",
      " 6   Number of Policies       5669 non-null   float64\n",
      " 7   Monthly Premium Auto     5669 non-null   float64\n",
      " 8   Total Claim Amount       5669 non-null   float64\n",
      " 9   Income                   5669 non-null   float64\n",
      " 10  Customer Lifetime Value  5669 non-null   float64\n",
      "dtypes: float64(5), object(6)\n",
      "memory usage: 487.3+ KB\n",
      "None\n",
      "\n",
      "\u001b[1m Missing Values \u001b[0m\n",
      "Vehicle Class              0\n",
      "Coverage                   0\n",
      "Renew Offer Type           0\n",
      "EmploymentStatus           0\n",
      "Marital Status             0\n",
      "Education                  0\n",
      "Number of Policies         0\n",
      "Monthly Premium Auto       0\n",
      "Total Claim Amount         0\n",
      "Income                     0\n",
      "Customer Lifetime Value    0\n",
      "dtype: int64\n"
     ]
    }
   ],
   "source": [
    "print('\\033[1m Data Info\\033[0m')\n",
    "print(df1.info())\n",
    "print()\n",
    "print('\\033[1m Missing Values \\033[0m')\n",
    "print(df1.isna().sum())"
   ]
  },
  {
   "cell_type": "code",
   "execution_count": 25,
   "id": "0f21a2c0",
   "metadata": {},
   "outputs": [
    {
     "data": {
      "text/plain": [
       "<AxesSubplot:>"
      ]
     },
     "execution_count": 25,
     "metadata": {},
     "output_type": "execute_result"
    },
    {
     "data": {
      "image/png": "[encoded data removed]",
      "text/plain": [
       "<Figure size 432x288 with 1 Axes>"
      ]
     },
     "metadata": {
      "needs_background": "light"
     },
     "output_type": "display_data"
    }
   ],
   "source": [
    "# Check Missing Value\n",
    "sns.heatmap(df1.isnull(), cbar=False)"
   ]
  },
  {
   "cell_type": "markdown",
   "id": "c36ead7c",
   "metadata": {},
   "source": [
    "Berdasarkan info dataset di atas terlihat dataset terdiri dari 5669 baris. Selain itu, dataset tidak memiliki nilai kosong. Oleh karena itu, pengolahan data kosong tidak perlu dilakukan."
   ]
  },
  {
   "cell_type": "code",
   "execution_count": 26,
   "id": "af3689bc",
   "metadata": {},
   "outputs": [
    {
     "data": {
      "text/html": [
       "<div>\n",
       "<style scoped>\n",
       "    .dataframe tbody tr th:only-of-type {\n",
       "        vertical-align: middle;\n",
       "    }\n",
       "\n",
       "    .dataframe tbody tr th {\n",
       "        vertical-align: top;\n",
       "    }\n",
       "\n",
       "    .dataframe thead th {\n",
       "        text-align: right;\n",
       "    }\n",
       "</style>\n",
       "<table border=\"1\" class=\"dataframe\">\n",
       "  <thead>\n",
       "    <tr style=\"text-align: right;\">\n",
       "      <th></th>\n",
       "      <th>Number of Policies</th>\n",
       "      <th>Monthly Premium Auto</th>\n",
       "      <th>Total Claim Amount</th>\n",
       "      <th>Income</th>\n",
       "      <th>Customer Lifetime Value</th>\n",
       "    </tr>\n",
       "  </thead>\n",
       "  <tbody>\n",
       "    <tr>\n",
       "      <th>count</th>\n",
       "      <td>5669.000000</td>\n",
       "      <td>5669.000000</td>\n",
       "      <td>5669.000000</td>\n",
       "      <td>5669.000000</td>\n",
       "      <td>5669.000000</td>\n",
       "    </tr>\n",
       "    <tr>\n",
       "      <th>mean</th>\n",
       "      <td>2.979361</td>\n",
       "      <td>93.026989</td>\n",
       "      <td>431.407103</td>\n",
       "      <td>37868.188569</td>\n",
       "      <td>8029.874592</td>\n",
       "    </tr>\n",
       "    <tr>\n",
       "      <th>std</th>\n",
       "      <td>2.393187</td>\n",
       "      <td>34.551795</td>\n",
       "      <td>287.558038</td>\n",
       "      <td>30490.490723</td>\n",
       "      <td>6916.708246</td>\n",
       "    </tr>\n",
       "    <tr>\n",
       "      <th>min</th>\n",
       "      <td>1.000000</td>\n",
       "      <td>61.000000</td>\n",
       "      <td>0.423310</td>\n",
       "      <td>0.000000</td>\n",
       "      <td>1898.007675</td>\n",
       "    </tr>\n",
       "    <tr>\n",
       "      <th>25%</th>\n",
       "      <td>1.000000</td>\n",
       "      <td>68.000000</td>\n",
       "      <td>266.932542</td>\n",
       "      <td>0.000000</td>\n",
       "      <td>3954.344534</td>\n",
       "    </tr>\n",
       "    <tr>\n",
       "      <th>50%</th>\n",
       "      <td>2.000000</td>\n",
       "      <td>82.000000</td>\n",
       "      <td>379.200000</td>\n",
       "      <td>34322.000000</td>\n",
       "      <td>5800.188903</td>\n",
       "    </tr>\n",
       "    <tr>\n",
       "      <th>75%</th>\n",
       "      <td>4.000000</td>\n",
       "      <td>109.000000</td>\n",
       "      <td>549.986128</td>\n",
       "      <td>62464.000000</td>\n",
       "      <td>9031.214859</td>\n",
       "    </tr>\n",
       "    <tr>\n",
       "      <th>max</th>\n",
       "      <td>9.000000</td>\n",
       "      <td>297.000000</td>\n",
       "      <td>2759.794354</td>\n",
       "      <td>99934.000000</td>\n",
       "      <td>83325.381190</td>\n",
       "    </tr>\n",
       "  </tbody>\n",
       "</table>\n",
       "</div>"
      ],
      "text/plain": [
       "       Number of Policies  Monthly Premium Auto  Total Claim Amount  \\\n",
       "count         5669.000000           5669.000000         5669.000000   \n",
       "mean             2.979361             93.026989          431.407103   \n",
       "std              2.393187             34.551795          287.558038   \n",
       "min              1.000000             61.000000            0.423310   \n",
       "25%              1.000000             68.000000          266.932542   \n",
       "50%              2.000000             82.000000          379.200000   \n",
       "75%              4.000000            109.000000          549.986128   \n",
       "max              9.000000            297.000000         2759.794354   \n",
       "\n",
       "             Income  Customer Lifetime Value  \n",
       "count   5669.000000              5669.000000  \n",
       "mean   37868.188569              8029.874592  \n",
       "std    30490.490723              6916.708246  \n",
       "min        0.000000              1898.007675  \n",
       "25%        0.000000              3954.344534  \n",
       "50%    34322.000000              5800.188903  \n",
       "75%    62464.000000              9031.214859  \n",
       "max    99934.000000             83325.381190  "
      ]
     },
     "execution_count": 26,
     "metadata": {},
     "output_type": "execute_result"
    }
   ],
   "source": [
    "# Describing Data\n",
    "df1.describe()"
   ]
  },
  {
   "cell_type": "markdown",
   "id": "f2cd2acd",
   "metadata": {},
   "source": [
    "Berdasarkan deskripsi data, terlihat tidak nilai minus. Namun, terlihat nilai 0 pada variabel **Income**."
   ]
  },
  {
   "cell_type": "code",
   "execution_count": 27,
   "id": "17aecf8e",
   "metadata": {},
   "outputs": [
    {
     "data": {
      "text/html": [
       "<div>\n",
       "<style scoped>\n",
       "    .dataframe tbody tr th:only-of-type {\n",
       "        vertical-align: middle;\n",
       "    }\n",
       "\n",
       "    .dataframe tbody tr th {\n",
       "        vertical-align: top;\n",
       "    }\n",
       "\n",
       "    .dataframe thead th {\n",
       "        text-align: right;\n",
       "    }\n",
       "</style>\n",
       "<table border=\"1\" class=\"dataframe\">\n",
       "  <thead>\n",
       "    <tr style=\"text-align: right;\">\n",
       "      <th></th>\n",
       "      <th>Vehicle Class</th>\n",
       "      <th>Coverage</th>\n",
       "      <th>Renew Offer Type</th>\n",
       "      <th>EmploymentStatus</th>\n",
       "      <th>Marital Status</th>\n",
       "      <th>Education</th>\n",
       "      <th>Number of Policies</th>\n",
       "      <th>Monthly Premium Auto</th>\n",
       "      <th>Total Claim Amount</th>\n",
       "      <th>Income</th>\n",
       "      <th>Customer Lifetime Value</th>\n",
       "    </tr>\n",
       "  </thead>\n",
       "  <tbody>\n",
       "    <tr>\n",
       "      <th>16</th>\n",
       "      <td>Four-Door Car</td>\n",
       "      <td>Basic</td>\n",
       "      <td>Offer2</td>\n",
       "      <td>Unemployed</td>\n",
       "      <td>Married</td>\n",
       "      <td>Bachelor</td>\n",
       "      <td>7.0</td>\n",
       "      <td>64.0</td>\n",
       "      <td>307.200000</td>\n",
       "      <td>0.0</td>\n",
       "      <td>4774.751709</td>\n",
       "    </tr>\n",
       "    <tr>\n",
       "      <th>17</th>\n",
       "      <td>SUV</td>\n",
       "      <td>Extended</td>\n",
       "      <td>Offer1</td>\n",
       "      <td>Unemployed</td>\n",
       "      <td>Single</td>\n",
       "      <td>College</td>\n",
       "      <td>1.0</td>\n",
       "      <td>129.0</td>\n",
       "      <td>1178.950186</td>\n",
       "      <td>0.0</td>\n",
       "      <td>4711.845199</td>\n",
       "    </tr>\n",
       "    <tr>\n",
       "      <th>21</th>\n",
       "      <td>SUV</td>\n",
       "      <td>Extended</td>\n",
       "      <td>Offer4</td>\n",
       "      <td>Unemployed</td>\n",
       "      <td>Single</td>\n",
       "      <td>Bachelor</td>\n",
       "      <td>1.0</td>\n",
       "      <td>126.0</td>\n",
       "      <td>907.200000</td>\n",
       "      <td>0.0</td>\n",
       "      <td>4531.675269</td>\n",
       "    </tr>\n",
       "    <tr>\n",
       "      <th>24</th>\n",
       "      <td>Two-Door Car</td>\n",
       "      <td>Extended</td>\n",
       "      <td>Offer1</td>\n",
       "      <td>Unemployed</td>\n",
       "      <td>Divorced</td>\n",
       "      <td>Bachelor</td>\n",
       "      <td>5.0</td>\n",
       "      <td>95.0</td>\n",
       "      <td>456.000000</td>\n",
       "      <td>0.0</td>\n",
       "      <td>6846.150323</td>\n",
       "    </tr>\n",
       "    <tr>\n",
       "      <th>26</th>\n",
       "      <td>Four-Door Car</td>\n",
       "      <td>Basic</td>\n",
       "      <td>Offer4</td>\n",
       "      <td>Unemployed</td>\n",
       "      <td>Single</td>\n",
       "      <td>Bachelor</td>\n",
       "      <td>1.0</td>\n",
       "      <td>66.0</td>\n",
       "      <td>475.200000</td>\n",
       "      <td>0.0</td>\n",
       "      <td>2239.647297</td>\n",
       "    </tr>\n",
       "    <tr>\n",
       "      <th>...</th>\n",
       "      <td>...</td>\n",
       "      <td>...</td>\n",
       "      <td>...</td>\n",
       "      <td>...</td>\n",
       "      <td>...</td>\n",
       "      <td>...</td>\n",
       "      <td>...</td>\n",
       "      <td>...</td>\n",
       "      <td>...</td>\n",
       "      <td>...</td>\n",
       "      <td>...</td>\n",
       "    </tr>\n",
       "    <tr>\n",
       "      <th>5651</th>\n",
       "      <td>SUV</td>\n",
       "      <td>Extended</td>\n",
       "      <td>Offer1</td>\n",
       "      <td>Unemployed</td>\n",
       "      <td>Single</td>\n",
       "      <td>High School or Below</td>\n",
       "      <td>1.0</td>\n",
       "      <td>129.0</td>\n",
       "      <td>1486.410662</td>\n",
       "      <td>0.0</td>\n",
       "      <td>4502.867562</td>\n",
       "    </tr>\n",
       "    <tr>\n",
       "      <th>5652</th>\n",
       "      <td>Four-Door Car</td>\n",
       "      <td>Extended</td>\n",
       "      <td>Offer4</td>\n",
       "      <td>Unemployed</td>\n",
       "      <td>Married</td>\n",
       "      <td>Bachelor</td>\n",
       "      <td>5.0</td>\n",
       "      <td>95.0</td>\n",
       "      <td>456.000000</td>\n",
       "      <td>0.0</td>\n",
       "      <td>6661.744145</td>\n",
       "    </tr>\n",
       "    <tr>\n",
       "      <th>5655</th>\n",
       "      <td>Two-Door Car</td>\n",
       "      <td>Basic</td>\n",
       "      <td>Offer1</td>\n",
       "      <td>Unemployed</td>\n",
       "      <td>Married</td>\n",
       "      <td>Bachelor</td>\n",
       "      <td>9.0</td>\n",
       "      <td>67.0</td>\n",
       "      <td>132.443705</td>\n",
       "      <td>0.0</td>\n",
       "      <td>4927.707574</td>\n",
       "    </tr>\n",
       "    <tr>\n",
       "      <th>5660</th>\n",
       "      <td>Two-Door Car</td>\n",
       "      <td>Basic</td>\n",
       "      <td>Offer2</td>\n",
       "      <td>Unemployed</td>\n",
       "      <td>Single</td>\n",
       "      <td>College</td>\n",
       "      <td>7.0</td>\n",
       "      <td>72.0</td>\n",
       "      <td>391.636628</td>\n",
       "      <td>0.0</td>\n",
       "      <td>4936.888359</td>\n",
       "    </tr>\n",
       "    <tr>\n",
       "      <th>5664</th>\n",
       "      <td>Four-Door Car</td>\n",
       "      <td>Basic</td>\n",
       "      <td>Offer4</td>\n",
       "      <td>Unemployed</td>\n",
       "      <td>Single</td>\n",
       "      <td>High School or Below</td>\n",
       "      <td>1.0</td>\n",
       "      <td>74.0</td>\n",
       "      <td>532.800000</td>\n",
       "      <td>0.0</td>\n",
       "      <td>2442.216651</td>\n",
       "    </tr>\n",
       "  </tbody>\n",
       "</table>\n",
       "<p>1429 rows × 11 columns</p>\n",
       "</div>"
      ],
      "text/plain": [
       "      Vehicle Class  Coverage Renew Offer Type EmploymentStatus  \\\n",
       "16    Four-Door Car     Basic           Offer2       Unemployed   \n",
       "17              SUV  Extended           Offer1       Unemployed   \n",
       "21              SUV  Extended           Offer4       Unemployed   \n",
       "24     Two-Door Car  Extended           Offer1       Unemployed   \n",
       "26    Four-Door Car     Basic           Offer4       Unemployed   \n",
       "...             ...       ...              ...              ...   \n",
       "5651            SUV  Extended           Offer1       Unemployed   \n",
       "5652  Four-Door Car  Extended           Offer4       Unemployed   \n",
       "5655   Two-Door Car     Basic           Offer1       Unemployed   \n",
       "5660   Two-Door Car     Basic           Offer2       Unemployed   \n",
       "5664  Four-Door Car     Basic           Offer4       Unemployed   \n",
       "\n",
       "     Marital Status             Education  Number of Policies  \\\n",
       "16          Married              Bachelor                 7.0   \n",
       "17           Single               College                 1.0   \n",
       "21           Single              Bachelor                 1.0   \n",
       "24         Divorced              Bachelor                 5.0   \n",
       "26           Single              Bachelor                 1.0   \n",
       "...             ...                   ...                 ...   \n",
       "5651         Single  High School or Below                 1.0   \n",
       "5652        Married              Bachelor                 5.0   \n",
       "5655        Married              Bachelor                 9.0   \n",
       "5660         Single               College                 7.0   \n",
       "5664         Single  High School or Below                 1.0   \n",
       "\n",
       "      Monthly Premium Auto  Total Claim Amount  Income  \\\n",
       "16                    64.0          307.200000     0.0   \n",
       "17                   129.0         1178.950186     0.0   \n",
       "21                   126.0          907.200000     0.0   \n",
       "24                    95.0          456.000000     0.0   \n",
       "26                    66.0          475.200000     0.0   \n",
       "...                    ...                 ...     ...   \n",
       "5651                 129.0         1486.410662     0.0   \n",
       "5652                  95.0          456.000000     0.0   \n",
       "5655                  67.0          132.443705     0.0   \n",
       "5660                  72.0          391.636628     0.0   \n",
       "5664                  74.0          532.800000     0.0   \n",
       "\n",
       "      Customer Lifetime Value  \n",
       "16                4774.751709  \n",
       "17                4711.845199  \n",
       "21                4531.675269  \n",
       "24                6846.150323  \n",
       "26                2239.647297  \n",
       "...                       ...  \n",
       "5651              4502.867562  \n",
       "5652              6661.744145  \n",
       "5655              4927.707574  \n",
       "5660              4936.888359  \n",
       "5664              2442.216651  \n",
       "\n",
       "[1429 rows x 11 columns]"
      ]
     },
     "execution_count": 27,
     "metadata": {},
     "output_type": "execute_result"
    }
   ],
   "source": [
    "# Check Suspicious Income Value\n",
    "df1.loc[((data['Income']==0))]"
   ]
  },
  {
   "cell_type": "markdown",
   "id": "a797fb57",
   "metadata": {},
   "source": [
    "Berdasarkan observasi data lebih lanjut, terlihat nilai 0 pada variabel **Income** berasal dari para pelanggan yang tidak memiliki pekerjaan. Hal tersebut merupakan hal yang wajar, sehingga tidak perlu pengolahan data lebih lanjut"
   ]
  },
  {
   "cell_type": "code",
   "execution_count": 28,
   "id": "650f0a20",
   "metadata": {},
   "outputs": [
    {
     "data": {
      "text/plain": [
       "Vehicle Class                 6\n",
       "Coverage                      3\n",
       "Renew Offer Type              4\n",
       "EmploymentStatus              5\n",
       "Marital Status                3\n",
       "Education                     5\n",
       "Number of Policies            9\n",
       "Monthly Premium Auto        191\n",
       "Total Claim Amount         3274\n",
       "Income                     3625\n",
       "Customer Lifetime Value    5049\n",
       "dtype: int64"
      ]
     },
     "execution_count": 28,
     "metadata": {},
     "output_type": "execute_result"
    }
   ],
   "source": [
    "# Check Unique Values\n",
    "df1.nunique()"
   ]
  },
  {
   "cell_type": "markdown",
   "id": "06de4b2a",
   "metadata": {},
   "source": [
    "**Check Duplicates**"
   ]
  },
  {
   "cell_type": "code",
   "execution_count": 29,
   "id": "fc0b918f",
   "metadata": {},
   "outputs": [
    {
     "data": {
      "text/html": [
       "<div>\n",
       "<style scoped>\n",
       "    .dataframe tbody tr th:only-of-type {\n",
       "        vertical-align: middle;\n",
       "    }\n",
       "\n",
       "    .dataframe tbody tr th {\n",
       "        vertical-align: top;\n",
       "    }\n",
       "\n",
       "    .dataframe thead th {\n",
       "        text-align: right;\n",
       "    }\n",
       "</style>\n",
       "<table border=\"1\" class=\"dataframe\">\n",
       "  <thead>\n",
       "    <tr style=\"text-align: right;\">\n",
       "      <th></th>\n",
       "      <th>Vehicle Class</th>\n",
       "      <th>Coverage</th>\n",
       "      <th>Renew Offer Type</th>\n",
       "      <th>EmploymentStatus</th>\n",
       "      <th>Marital Status</th>\n",
       "      <th>Education</th>\n",
       "      <th>Number of Policies</th>\n",
       "      <th>Monthly Premium Auto</th>\n",
       "      <th>Total Claim Amount</th>\n",
       "      <th>Income</th>\n",
       "      <th>Customer Lifetime Value</th>\n",
       "    </tr>\n",
       "  </thead>\n",
       "  <tbody>\n",
       "    <tr>\n",
       "      <th>188</th>\n",
       "      <td>Sports Car</td>\n",
       "      <td>Basic</td>\n",
       "      <td>Offer2</td>\n",
       "      <td>Unemployed</td>\n",
       "      <td>Married</td>\n",
       "      <td>High School or Below</td>\n",
       "      <td>3.0</td>\n",
       "      <td>119.0</td>\n",
       "      <td>571.200000</td>\n",
       "      <td>0.0</td>\n",
       "      <td>9048.983447</td>\n",
       "    </tr>\n",
       "    <tr>\n",
       "      <th>256</th>\n",
       "      <td>Four-Door Car</td>\n",
       "      <td>Basic</td>\n",
       "      <td>Offer1</td>\n",
       "      <td>Retired</td>\n",
       "      <td>Single</td>\n",
       "      <td>Bachelor</td>\n",
       "      <td>1.0</td>\n",
       "      <td>63.0</td>\n",
       "      <td>347.857619</td>\n",
       "      <td>24910.0</td>\n",
       "      <td>2248.449633</td>\n",
       "    </tr>\n",
       "    <tr>\n",
       "      <th>331</th>\n",
       "      <td>SUV</td>\n",
       "      <td>Basic</td>\n",
       "      <td>Offer2</td>\n",
       "      <td>Employed</td>\n",
       "      <td>Single</td>\n",
       "      <td>Master</td>\n",
       "      <td>1.0</td>\n",
       "      <td>107.0</td>\n",
       "      <td>513.600000</td>\n",
       "      <td>29462.0</td>\n",
       "      <td>4170.687348</td>\n",
       "    </tr>\n",
       "    <tr>\n",
       "      <th>362</th>\n",
       "      <td>SUV</td>\n",
       "      <td>Basic</td>\n",
       "      <td>Offer2</td>\n",
       "      <td>Unemployed</td>\n",
       "      <td>Married</td>\n",
       "      <td>Bachelor</td>\n",
       "      <td>1.0</td>\n",
       "      <td>102.0</td>\n",
       "      <td>660.430456</td>\n",
       "      <td>0.0</td>\n",
       "      <td>3567.503755</td>\n",
       "    </tr>\n",
       "    <tr>\n",
       "      <th>366</th>\n",
       "      <td>SUV</td>\n",
       "      <td>Extended</td>\n",
       "      <td>Offer1</td>\n",
       "      <td>Unemployed</td>\n",
       "      <td>Single</td>\n",
       "      <td>College</td>\n",
       "      <td>2.0</td>\n",
       "      <td>126.0</td>\n",
       "      <td>604.800000</td>\n",
       "      <td>0.0</td>\n",
       "      <td>13727.799720</td>\n",
       "    </tr>\n",
       "    <tr>\n",
       "      <th>...</th>\n",
       "      <td>...</td>\n",
       "      <td>...</td>\n",
       "      <td>...</td>\n",
       "      <td>...</td>\n",
       "      <td>...</td>\n",
       "      <td>...</td>\n",
       "      <td>...</td>\n",
       "      <td>...</td>\n",
       "      <td>...</td>\n",
       "      <td>...</td>\n",
       "      <td>...</td>\n",
       "    </tr>\n",
       "    <tr>\n",
       "      <th>5624</th>\n",
       "      <td>Luxury SUV</td>\n",
       "      <td>Premium</td>\n",
       "      <td>Offer1</td>\n",
       "      <td>Retired</td>\n",
       "      <td>Married</td>\n",
       "      <td>Bachelor</td>\n",
       "      <td>1.0</td>\n",
       "      <td>271.0</td>\n",
       "      <td>1300.800000</td>\n",
       "      <td>14290.0</td>\n",
       "      <td>10179.717040</td>\n",
       "    </tr>\n",
       "    <tr>\n",
       "      <th>5640</th>\n",
       "      <td>SUV</td>\n",
       "      <td>Extended</td>\n",
       "      <td>Offer2</td>\n",
       "      <td>Unemployed</td>\n",
       "      <td>Married</td>\n",
       "      <td>College</td>\n",
       "      <td>1.0</td>\n",
       "      <td>122.0</td>\n",
       "      <td>725.870693</td>\n",
       "      <td>0.0</td>\n",
       "      <td>4270.034394</td>\n",
       "    </tr>\n",
       "    <tr>\n",
       "      <th>5642</th>\n",
       "      <td>Four-Door Car</td>\n",
       "      <td>Extended</td>\n",
       "      <td>Offer2</td>\n",
       "      <td>Employed</td>\n",
       "      <td>Married</td>\n",
       "      <td>College</td>\n",
       "      <td>1.0</td>\n",
       "      <td>95.0</td>\n",
       "      <td>281.110788</td>\n",
       "      <td>93272.0</td>\n",
       "      <td>3861.486269</td>\n",
       "    </tr>\n",
       "    <tr>\n",
       "      <th>5654</th>\n",
       "      <td>Four-Door Car</td>\n",
       "      <td>Extended</td>\n",
       "      <td>Offer2</td>\n",
       "      <td>Employed</td>\n",
       "      <td>Married</td>\n",
       "      <td>College</td>\n",
       "      <td>8.0</td>\n",
       "      <td>82.0</td>\n",
       "      <td>393.600000</td>\n",
       "      <td>72608.0</td>\n",
       "      <td>6521.368813</td>\n",
       "    </tr>\n",
       "    <tr>\n",
       "      <th>5667</th>\n",
       "      <td>Luxury SUV</td>\n",
       "      <td>Extended</td>\n",
       "      <td>Offer2</td>\n",
       "      <td>Employed</td>\n",
       "      <td>Divorced</td>\n",
       "      <td>Master</td>\n",
       "      <td>7.0</td>\n",
       "      <td>239.0</td>\n",
       "      <td>1294.700423</td>\n",
       "      <td>22705.0</td>\n",
       "      <td>19160.989940</td>\n",
       "    </tr>\n",
       "  </tbody>\n",
       "</table>\n",
       "<p>618 rows × 11 columns</p>\n",
       "</div>"
      ],
      "text/plain": [
       "      Vehicle Class  Coverage Renew Offer Type EmploymentStatus  \\\n",
       "188      Sports Car     Basic           Offer2       Unemployed   \n",
       "256   Four-Door Car     Basic           Offer1          Retired   \n",
       "331             SUV     Basic           Offer2         Employed   \n",
       "362             SUV     Basic           Offer2       Unemployed   \n",
       "366             SUV  Extended           Offer1       Unemployed   \n",
       "...             ...       ...              ...              ...   \n",
       "5624     Luxury SUV   Premium           Offer1          Retired   \n",
       "5640            SUV  Extended           Offer2       Unemployed   \n",
       "5642  Four-Door Car  Extended           Offer2         Employed   \n",
       "5654  Four-Door Car  Extended           Offer2         Employed   \n",
       "5667     Luxury SUV  Extended           Offer2         Employed   \n",
       "\n",
       "     Marital Status             Education  Number of Policies  \\\n",
       "188         Married  High School or Below                 3.0   \n",
       "256          Single              Bachelor                 1.0   \n",
       "331          Single                Master                 1.0   \n",
       "362         Married              Bachelor                 1.0   \n",
       "366          Single               College                 2.0   \n",
       "...             ...                   ...                 ...   \n",
       "5624        Married              Bachelor                 1.0   \n",
       "5640        Married               College                 1.0   \n",
       "5642        Married               College                 1.0   \n",
       "5654        Married               College                 8.0   \n",
       "5667       Divorced                Master                 7.0   \n",
       "\n",
       "      Monthly Premium Auto  Total Claim Amount   Income  \\\n",
       "188                  119.0          571.200000      0.0   \n",
       "256                   63.0          347.857619  24910.0   \n",
       "331                  107.0          513.600000  29462.0   \n",
       "362                  102.0          660.430456      0.0   \n",
       "366                  126.0          604.800000      0.0   \n",
       "...                    ...                 ...      ...   \n",
       "5624                 271.0         1300.800000  14290.0   \n",
       "5640                 122.0          725.870693      0.0   \n",
       "5642                  95.0          281.110788  93272.0   \n",
       "5654                  82.0          393.600000  72608.0   \n",
       "5667                 239.0         1294.700423  22705.0   \n",
       "\n",
       "      Customer Lifetime Value  \n",
       "188               9048.983447  \n",
       "256               2248.449633  \n",
       "331               4170.687348  \n",
       "362               3567.503755  \n",
       "366              13727.799720  \n",
       "...                       ...  \n",
       "5624             10179.717040  \n",
       "5640              4270.034394  \n",
       "5642              3861.486269  \n",
       "5654              6521.368813  \n",
       "5667             19160.989940  \n",
       "\n",
       "[618 rows x 11 columns]"
      ]
     },
     "execution_count": 29,
     "metadata": {},
     "output_type": "execute_result"
    }
   ],
   "source": [
    "df1.loc[data.duplicated(), :]"
   ]
  },
  {
   "cell_type": "markdown",
   "id": "98546450",
   "metadata": {},
   "source": [
    "Berdasarkan observasi lebih lanjut, terlihat banyak sekali data duplikat. Namun, ada poin penting yang harus diperhatikan sebelum memproses data duplikat, yaitu **tidak adanya variabel pembeda antar pelanggan pada dataset ini**. Variabel yang dimaksud adalah data seperti **Customer's ID** dan sejenisnya. Sangat mungkin terdapat karakteristik yang sama antar pelanggan, baik itu dari sisi income maupun sisi lainnya. Oleh karena itu, pemrosesan data duplikat tidak dilakukan."
   ]
  },
  {
   "cell_type": "markdown",
   "id": "20057264",
   "metadata": {},
   "source": [
    "**Handling Outliers**"
   ]
  },
  {
   "cell_type": "code",
   "execution_count": 30,
   "id": "72e0ac80",
   "metadata": {},
   "outputs": [
    {
     "data": {
      "image/png": "[encoded data removed]",
      "text/plain": [
       "<Figure size 1296x432 with 4 Axes>"
      ]
     },
     "metadata": {
      "needs_background": "light"
     },
     "output_type": "display_data"
    }
   ],
   "source": [
    "# Boxplot\n",
    "fig, axes = plt.subplots(1, 4, figsize=(18, 6))\n",
    "sns.boxplot(ax=axes[0],x=data['Monthly Premium Auto'])\n",
    "sns.boxplot(ax=axes[1],x=data['Customer Lifetime Value'])\n",
    "sns.boxplot(ax=axes[2],x=data['Total Claim Amount'])\n",
    "sns.boxplot(ax=axes[3],x=data['Income'])\n",
    "plt.show()"
   ]
  },
  {
   "cell_type": "code",
   "execution_count": 31,
   "id": "ee609fb0",
   "metadata": {},
   "outputs": [],
   "source": [
    "# Membuat fungsi untuk mengecek outliers\n",
    "def find_anomalies(data):\n",
    "    q1 = data.quantile(0.25)\n",
    "    q3 = data.quantile(0.75)\n",
    "    iqr = q3 - q1\n",
    "    limit = iqr*1.5\n",
    "    print(f'IQR: {iqr}')\n",
    "\n",
    "    limit_bawah = q1 - limit\n",
    "    limit_atas = q3 + limit\n",
    "    print(f'limit_bawah: {limit_bawah}')\n",
    "    print(f'limit_atas: {limit_atas}')  "
   ]
  },
  {
   "cell_type": "code",
   "execution_count": 32,
   "id": "9a8a5ffb",
   "metadata": {},
   "outputs": [
    {
     "name": "stdout",
     "output_type": "stream",
     "text": [
      "IQR: 41.0\n",
      "limit_bawah: 6.5\n",
      "limit_atas: 170.5\n"
     ]
    }
   ],
   "source": [
    "# Kondisi outliers kolom Monthly Premium Auto\n",
    "find_anomalies(df1['Monthly Premium Auto'])"
   ]
  },
  {
   "cell_type": "code",
   "execution_count": 33,
   "id": "4fe83cf1",
   "metadata": {},
   "outputs": [
    {
     "name": "stdout",
     "output_type": "stream",
     "text": [
      "IQR: 5076.870325\n",
      "limit_bawah: -3660.9609535\n",
      "limit_atas: 16646.5203465\n"
     ]
    }
   ],
   "source": [
    "# Kondisi outliers kolom Customer Lifetime Value\n",
    "find_anomalies(df1['Customer Lifetime Value'])"
   ]
  },
  {
   "cell_type": "code",
   "execution_count": 34,
   "id": "08d6d1c1",
   "metadata": {},
   "outputs": [
    {
     "name": "stdout",
     "output_type": "stream",
     "text": [
      "IQR: 283.053586\n",
      "limit_bawah: -157.64783699999998\n",
      "limit_atas: 974.566507\n"
     ]
    }
   ],
   "source": [
    "# Kondisi outliers kolom Total Claim Amount\n",
    "find_anomalies(df1['Total Claim Amount'])"
   ]
  },
  {
   "cell_type": "code",
   "execution_count": 35,
   "id": "5a6e1c1b",
   "metadata": {},
   "outputs": [
    {
     "name": "stdout",
     "output_type": "stream",
     "text": [
      "IQR: 62464.0\n",
      "limit_bawah: -93696.0\n",
      "limit_atas: 156160.0\n"
     ]
    }
   ],
   "source": [
    "# Kondisi outliers kolom Income\n",
    "find_anomalies(df1['Income'])"
   ]
  },
  {
   "cell_type": "code",
   "execution_count": 36,
   "id": "c852ca0e",
   "metadata": {},
   "outputs": [
    {
     "data": {
      "text/plain": [
       "275"
      ]
     },
     "execution_count": 36,
     "metadata": {},
     "output_type": "execute_result"
    }
   ],
   "source": [
    "# Cek outliers kolom Monthly Premium Auto\n",
    "df1[df1['Monthly Premium Auto'] > 170.5].count()['Monthly Premium Auto']"
   ]
  },
  {
   "cell_type": "code",
   "execution_count": 37,
   "id": "3f60c483",
   "metadata": {},
   "outputs": [
    {
     "data": {
      "text/plain": [
       "499"
      ]
     },
     "execution_count": 37,
     "metadata": {},
     "output_type": "execute_result"
    }
   ],
   "source": [
    "# Cek outliers kolom Customer Lifetime Value\n",
    "df1[df1['Customer Lifetime Value'] > 16646.5203465].count()['Customer Lifetime Value']"
   ]
  },
  {
   "cell_type": "code",
   "execution_count": 38,
   "id": "a077a00c",
   "metadata": {},
   "outputs": [
    {
     "data": {
      "text/plain": [
       "265"
      ]
     },
     "execution_count": 38,
     "metadata": {},
     "output_type": "execute_result"
    }
   ],
   "source": [
    "# Cek outliers kolom Total Claim Amount\n",
    "df1[df1['Total Claim Amount'] > 974.566507].count()['Total Claim Amount']"
   ]
  },
  {
   "cell_type": "code",
   "execution_count": 39,
   "id": "a11aa67f",
   "metadata": {},
   "outputs": [
    {
     "data": {
      "text/plain": [
       "0"
      ]
     },
     "execution_count": 39,
     "metadata": {},
     "output_type": "execute_result"
    }
   ],
   "source": [
    "# Cek outliers kolom Income\n",
    "df1[df1['Income'] > 156160.0].count()['Income']"
   ]
  },
  {
   "cell_type": "markdown",
   "id": "1200cff9",
   "metadata": {},
   "source": [
    "Outliers atau data pencilan dapat dilihat melalui boxplot dan hitungan outliers seperti di atas.  \n",
    "  \n",
    "Dari boxplot di atas, terlihat variabel Monthly Premium Auto, Customer Lifetime Value, dan Total Claim Amount cenderung positively skewed dan juga memiliki banyak outliers. Selain dari boxplot, berdasarkan hitungan outliers, terdapat banyak data outliers pada kolom Monthly Premium Auto, Customer Lifetime Value, dan Total Claim Amount.  \n",
    "  \n",
    "Outliers memang dapat menyebabkan data menjadi bias, namun, sebelum melakukan pengolahan data, ada beberapa poin yang harus diperhatikan. Pertama, **jumlah outlier pada dataset ini cenderung banyak**. Bahkan pada kolom Customer Lifetime Value, terdapat 499 data yang melebihi limit atas. Kedua, **jumlah dataset cenderung sedikit bila dibandingkan dengan jumlah outlier-nya**. Jumlah baris pada dataset ini hanya 5669 baris sedangkan jumlah outlier kolom Customer Lifetime Value sudah mencakup 8% dari total dataset, di luar dari data pada kolom lain. Hal tersebut bisa mempengaruhi kualitas data karena nantinya data yang diolah menjadi sedikit.  \n",
    "  \n",
    "Oleh karena itu, outliers pada dataset ini akan dianggap sebagai bagian dari analisis. Hal tersebut menggambarkan kondisi pelanggan yang memang cukup beragam, sehingga pengolahan data outliers tidak dilakukan.  "
   ]
  },
  {
   "cell_type": "code",
   "execution_count": 40,
   "id": "d05313b3",
   "metadata": {},
   "outputs": [
    {
     "data": {
      "text/plain": [
       "Text(0.5, 1.0, 'Correlation Matrix')"
      ]
     },
     "execution_count": 40,
     "metadata": {},
     "output_type": "execute_result"
    },
    {
     "data": {
      "image/png": "[encoded data removed]",
      "text/plain": [
       "<Figure size 720x720 with 2 Axes>"
      ]
     },
     "metadata": {
      "needs_background": "light"
     },
     "output_type": "display_data"
    }
   ],
   "source": [
    "# Correlation Matrix\n",
    "corr = df1.corr()\n",
    "plt.figure(figsize=(10,10))\n",
    "sns.heatmap(corr, annot=True)\n",
    "plt.yticks(rotation=0)\n",
    "plt.title('Correlation Matrix')"
   ]
  },
  {
   "cell_type": "markdown",
   "id": "49cd634d",
   "metadata": {},
   "source": [
    "Berdasarkan matrix korelasi di atas, sebagian besar komponen dari dataset cenderung memiliki korelasi lemah. Pengecualian terlihat pada Monthly Premium Auto dan Total Claim Amount. Hubungan antar kedua variabel tersebut adalah positif, yang menandakan semakin besar nilai Monthly Premium Auto maka akan semakin besar pula nilai Total Claim Amount."
   ]
  },
  {
   "cell_type": "markdown",
   "id": "5a2181b4",
   "metadata": {},
   "source": [
    "### **Modelling**"
   ]
  },
  {
   "cell_type": "code",
   "execution_count": 41,
   "id": "ed1f5a55",
   "metadata": {},
   "outputs": [],
   "source": [
    "# Import library\n",
    "import statsmodels.api as sm\n",
    "from sklearn.model_selection import train_test_split, cross_val_score, RandomizedSearchCV, GridSearchCV, KFold\n",
    "\n",
    "import category_encoders as ce\n",
    "from sklearn.preprocessing import OneHotEncoder\n",
    "from sklearn.compose import ColumnTransformer\n",
    "from sklearn.pipeline import Pipeline\n",
    "\n",
    "from sklearn.linear_model import LinearRegression\n",
    "from sklearn.neighbors import KNeighborsRegressor\n",
    "from sklearn.tree import DecisionTreeRegressor\n",
    "from sklearn.ensemble import RandomForestRegressor\n",
    "from xgboost.sklearn import XGBRegressor\n",
    "from sklearn.compose import TransformedTargetRegressor\n",
    "\n",
    "from sklearn.preprocessing import StandardScaler, RobustScaler\n",
    "\n",
    "from sklearn.metrics import r2_score, mean_squared_error, mean_absolute_error, mean_absolute_percentage_error"
   ]
  },
  {
   "cell_type": "markdown",
   "id": "17e2ceb1",
   "metadata": {},
   "source": [
    "**Encoding**"
   ]
  },
  {
   "cell_type": "code",
   "execution_count": 42,
   "id": "da6f1a3d",
   "metadata": {},
   "outputs": [],
   "source": [
    "# Encoding\n",
    "transformer = ColumnTransformer([\n",
    "    ('One Hot', OneHotEncoder(drop='first'), ['Coverage', 'Marital Status','EmploymentStatus','Education','Renew Offer Type']),\n",
    "    ('Binary', ce.BinaryEncoder(), ['Vehicle Class'])\n",
    "], remainder='passthrough')"
   ]
  },
  {
   "cell_type": "markdown",
   "id": "d3e04663",
   "metadata": {},
   "source": [
    "**Splitting Data**"
   ]
  },
  {
   "cell_type": "code",
   "execution_count": 43,
   "id": "57ba1f7b",
   "metadata": {},
   "outputs": [],
   "source": [
    "# Splitting Data\n",
    "X = df1.drop(['Customer Lifetime Value'], axis=1)\n",
    "y = df1['Customer Lifetime Value']"
   ]
  },
  {
   "cell_type": "code",
   "execution_count": 44,
   "id": "a2579e21",
   "metadata": {},
   "outputs": [],
   "source": [
    "# Train Test Split\n",
    "X_train, X_test, y_train, y_test= train_test_split(\n",
    "    X,\n",
    "    y,  \n",
    "    test_size=0.3,\n",
    "    random_state=1)"
   ]
  },
  {
   "cell_type": "markdown",
   "id": "dd78dbd3",
   "metadata": {},
   "source": [
    "**Benchmarking Model**"
   ]
  },
  {
   "cell_type": "code",
   "execution_count": 45,
   "id": "f27cc0c6",
   "metadata": {},
   "outputs": [
    {
     "name": "stdout",
     "output_type": "stream",
     "text": [
      "[-6198.06314557 -6885.99359327 -6676.08137845 -5957.9491641\n",
      " -6534.64240312] LinearRegression()\n",
      "[-3842.92845588 -4120.46847834 -3962.2867466  -3850.96810878\n",
      " -4066.7232334 ] LinearRegression()\n",
      "[-0.59982575 -0.59202072 -0.60459144 -0.6174399  -0.58103025] LinearRegression()\n",
      "[-6307.16438895 -7096.10155816 -6830.95249331 -6318.47913106\n",
      " -6441.13554464] KNeighborsRegressor()\n",
      "[-3803.74844457 -4033.29753968 -3914.04764415 -3722.29548364\n",
      " -3898.00598344] KNeighborsRegressor()\n",
      "[-0.59310169 -0.54262136 -0.59316739 -0.5599193  -0.54179554] KNeighborsRegressor()\n",
      "[-5728.67464872 -5228.02814933 -5038.01803797 -4772.07126982\n",
      " -4852.51026469] DecisionTreeRegressor(random_state=42)\n",
      "[-1967.94475769 -1764.84378339 -1636.33019002 -1599.80211144\n",
      " -1611.64413825] DecisionTreeRegressor(random_state=42)\n",
      "[-0.14519269 -0.11859489 -0.1121256  -0.11927422 -0.11829942] DecisionTreeRegressor(random_state=42)\n",
      "[-3978.73669183 -4315.47004924 -4211.54724082 -3534.50933324\n",
      " -3624.38364205] RandomForestRegressor(random_state=42)\n",
      "[-1600.78588117 -1619.79440112 -1494.2117389  -1393.53265167\n",
      " -1477.66168917] RandomForestRegressor(random_state=42)\n",
      "[-0.12148566 -0.1095208  -0.10533883 -0.10743686 -0.11057399] RandomForestRegressor(random_state=42)\n",
      "[-4068.87673373 -4519.52940621 -4403.37778438 -3586.86895921\n",
      " -3735.24109255] XGBRegressor(base_score=None, booster=None, colsample_bylevel=None,\n",
      "             colsample_bynode=None, colsample_bytree=None,\n",
      "             enable_categorical=False, gamma=None, gpu_id=None,\n",
      "             importance_type=None, interaction_constraints=None,\n",
      "             learning_rate=None, max_delta_step=None, max_depth=None,\n",
      "             min_child_weight=None, missing=nan, monotone_constraints=None,\n",
      "             n_estimators=100, n_jobs=None, num_parallel_tree=None,\n",
      "             predictor=None, random_state=42, reg_alpha=None, reg_lambda=None,\n",
      "             scale_pos_weight=None, subsample=None, tree_method=None,\n",
      "             validate_parameters=None, verbosity=None)\n",
      "[-1948.679731   -1983.5427849  -1922.4436597  -1845.30296255\n",
      " -1909.05432527] XGBRegressor(base_score=None, booster=None, colsample_bylevel=None,\n",
      "             colsample_bynode=None, colsample_bytree=None,\n",
      "             enable_categorical=False, gamma=None, gpu_id=None,\n",
      "             importance_type=None, interaction_constraints=None,\n",
      "             learning_rate=None, max_delta_step=None, max_depth=None,\n",
      "             min_child_weight=None, missing=nan, monotone_constraints=None,\n",
      "             n_estimators=100, n_jobs=None, num_parallel_tree=None,\n",
      "             predictor=None, random_state=42, reg_alpha=None, reg_lambda=None,\n",
      "             scale_pos_weight=None, subsample=None, tree_method=None,\n",
      "             validate_parameters=None, verbosity=None)\n",
      "[-0.2103317  -0.18965066 -0.19501073 -0.20953387 -0.19996242] XGBRegressor(base_score=None, booster=None, colsample_bylevel=None,\n",
      "             colsample_bynode=None, colsample_bytree=None,\n",
      "             enable_categorical=False, gamma=None, gpu_id=None,\n",
      "             importance_type=None, interaction_constraints=None,\n",
      "             learning_rate=None, max_delta_step=None, max_depth=None,\n",
      "             min_child_weight=None, missing=nan, monotone_constraints=None,\n",
      "             n_estimators=100, n_jobs=None, num_parallel_tree=None,\n",
      "             predictor=None, random_state=42, reg_alpha=None, reg_lambda=None,\n",
      "             scale_pos_weight=None, subsample=None, tree_method=None,\n",
      "             validate_parameters=None, verbosity=None)\n"
     ]
    }
   ],
   "source": [
    "# Pilih algoritma yang akan digunakan\n",
    "lr = LinearRegression()\n",
    "knn = KNeighborsRegressor()\n",
    "dt = DecisionTreeRegressor(random_state=42)\n",
    "rf = RandomForestRegressor(random_state=42)\n",
    "xgb = XGBRegressor(random_state=42)\n",
    "\n",
    "# Scaling data\n",
    "scaler = RobustScaler()\n",
    "\n",
    "# Kandidat algoritma\n",
    "models = [lr, knn, dt, rf, xgb]\n",
    "\n",
    "score_rmse = []\n",
    "nilai_mean_rmse = []\n",
    "nilai_std_rmse = []\n",
    "\n",
    "score_mae = []\n",
    "nilai_mean_mae = []\n",
    "nilai_std_mae = []\n",
    "\n",
    "score_mape = []\n",
    "nilai_mean_mape = []\n",
    "nilai_std_mape = []\n",
    "\n",
    "# Mencari algoritma terbaik\n",
    "for i in models:\n",
    "    \n",
    "    crossval = KFold(n_splits=5, shuffle=True, random_state=42)\n",
    "\n",
    "    estimator = Pipeline([\n",
    "        ('preprocessing', transformer),\n",
    "        ('scaler', scaler),\n",
    "        ('model', i)\n",
    "    ])\n",
    "\n",
    "    model_cv_rmse = cross_val_score(\n",
    "        estimator, \n",
    "        X_train, \n",
    "        y_train, \n",
    "        cv=crossval, \n",
    "        scoring='neg_root_mean_squared_error', \n",
    "        error_score='raise'\n",
    "        )\n",
    "\n",
    "    print(model_cv_rmse, i)\n",
    "\n",
    "    score_rmse.append(model_cv_rmse)\n",
    "    nilai_mean_rmse.append(model_cv_rmse.mean())\n",
    "    nilai_std_rmse.append(model_cv_rmse.std())\n",
    "\n",
    "    model_cv_mae = cross_val_score(\n",
    "        estimator, \n",
    "        X_train, \n",
    "        y_train, \n",
    "        cv=crossval, \n",
    "        scoring='neg_mean_absolute_error', \n",
    "        error_score='raise'\n",
    "        )\n",
    "\n",
    "    print(model_cv_mae, i)\n",
    "\n",
    "    score_mae.append(model_cv_mae)\n",
    "    nilai_mean_mae.append(model_cv_mae.mean())\n",
    "    nilai_std_mae.append(model_cv_mae.std())\n",
    "\n",
    "    model_cv_mape = cross_val_score(\n",
    "        estimator, \n",
    "        X_train, \n",
    "        y_train, \n",
    "        cv=crossval, \n",
    "        scoring='neg_mean_absolute_percentage_error', \n",
    "        error_score='raise'\n",
    "        )\n",
    "\n",
    "    print(model_cv_mape, i)\n",
    "\n",
    "    score_mape.append(model_cv_mape)\n",
    "    nilai_mean_mape.append(model_cv_mape.mean())\n",
    "    nilai_std_mape.append(model_cv_mape.std())"
   ]
  },
  {
   "cell_type": "code",
   "execution_count": 46,
   "id": "8fb9258e",
   "metadata": {},
   "outputs": [
    {
     "data": {
      "text/html": [
       "<div>\n",
       "<style scoped>\n",
       "    .dataframe tbody tr th:only-of-type {\n",
       "        vertical-align: middle;\n",
       "    }\n",
       "\n",
       "    .dataframe tbody tr th {\n",
       "        vertical-align: top;\n",
       "    }\n",
       "\n",
       "    .dataframe thead th {\n",
       "        text-align: right;\n",
       "    }\n",
       "</style>\n",
       "<table border=\"1\" class=\"dataframe\">\n",
       "  <thead>\n",
       "    <tr style=\"text-align: right;\">\n",
       "      <th></th>\n",
       "      <th>Model</th>\n",
       "      <th>Mean_RMSE</th>\n",
       "      <th>Std_RMSE</th>\n",
       "      <th>Mean_MAE</th>\n",
       "      <th>Std_MAE</th>\n",
       "      <th>Mean_MAPE</th>\n",
       "      <th>Std_MAPE</th>\n",
       "    </tr>\n",
       "  </thead>\n",
       "  <tbody>\n",
       "    <tr>\n",
       "      <th>0</th>\n",
       "      <td>Linear Regression</td>\n",
       "      <td>-6450.545937</td>\n",
       "      <td>332.851995</td>\n",
       "      <td>-3968.675005</td>\n",
       "      <td>111.680465</td>\n",
       "      <td>-0.598982</td>\n",
       "      <td>0.012195</td>\n",
       "    </tr>\n",
       "    <tr>\n",
       "      <th>1</th>\n",
       "      <td>KNN Regressor</td>\n",
       "      <td>-6598.766623</td>\n",
       "      <td>312.951375</td>\n",
       "      <td>-3874.279019</td>\n",
       "      <td>105.361245</td>\n",
       "      <td>-0.566121</td>\n",
       "      <td>0.022986</td>\n",
       "    </tr>\n",
       "    <tr>\n",
       "      <th>2</th>\n",
       "      <td>DecisionTree Regressor</td>\n",
       "      <td>-5123.860474</td>\n",
       "      <td>341.000468</td>\n",
       "      <td>-1716.112996</td>\n",
       "      <td>138.997256</td>\n",
       "      <td>-0.122697</td>\n",
       "      <td>0.011539</td>\n",
       "    </tr>\n",
       "    <tr>\n",
       "      <th>3</th>\n",
       "      <td>RandomForest Regressor</td>\n",
       "      <td>-3932.929391</td>\n",
       "      <td>309.839504</td>\n",
       "      <td>-1517.197272</td>\n",
       "      <td>83.543476</td>\n",
       "      <td>-0.110871</td>\n",
       "      <td>0.005603</td>\n",
       "    </tr>\n",
       "    <tr>\n",
       "      <th>4</th>\n",
       "      <td>XGBoost Regressor</td>\n",
       "      <td>-4062.778795</td>\n",
       "      <td>362.887612</td>\n",
       "      <td>-1921.804693</td>\n",
       "      <td>45.933331</td>\n",
       "      <td>-0.200898</td>\n",
       "      <td>0.008070</td>\n",
       "    </tr>\n",
       "  </tbody>\n",
       "</table>\n",
       "</div>"
      ],
      "text/plain": [
       "                    Model    Mean_RMSE    Std_RMSE     Mean_MAE     Std_MAE  \\\n",
       "0       Linear Regression -6450.545937  332.851995 -3968.675005  111.680465   \n",
       "1           KNN Regressor -6598.766623  312.951375 -3874.279019  105.361245   \n",
       "2  DecisionTree Regressor -5123.860474  341.000468 -1716.112996  138.997256   \n",
       "3  RandomForest Regressor -3932.929391  309.839504 -1517.197272   83.543476   \n",
       "4       XGBoost Regressor -4062.778795  362.887612 -1921.804693   45.933331   \n",
       "\n",
       "   Mean_MAPE  Std_MAPE  \n",
       "0  -0.598982  0.012195  \n",
       "1  -0.566121  0.022986  \n",
       "2  -0.122697  0.011539  \n",
       "3  -0.110871  0.005603  \n",
       "4  -0.200898  0.008070  "
      ]
     },
     "execution_count": 46,
     "metadata": {},
     "output_type": "execute_result"
    }
   ],
   "source": [
    "# Evaluasi metrik\n",
    "pd.DataFrame({\n",
    "    'Model': ['Linear Regression', 'KNN Regressor', 'DecisionTree Regressor', 'RandomForest Regressor', 'XGBoost Regressor'],\n",
    "    'Mean_RMSE': nilai_mean_rmse,\n",
    "    'Std_RMSE': nilai_std_rmse,\n",
    "    'Mean_MAE': nilai_mean_mae,\n",
    "    'Std_MAE': nilai_std_mae,\n",
    "    'Mean_MAPE': nilai_mean_mape,\n",
    "    'Std_MAPE': nilai_std_mape\n",
    "})"
   ]
  },
  {
   "cell_type": "markdown",
   "id": "d84aba31",
   "metadata": {},
   "source": [
    "Berdasarkan hasil metrik di atas, terdapat 3 model yang memiliki nilai error yang paling kecil, yaitu Decision Tree, Random Forest, dan XGBoost.  \n",
    "- Model XGBoost memiliki nilai RMSE yang paling kecil setelah Random Forest.\n",
    "- Model Decision Tree memiliki nilai MAE yang kecil, kedua terkecil setelah Random Forest.  \n",
    "- Dari semua metrik yang ada, Random Forest memiliki nilai yang paling baik (Nilai RMSE, MAE, dan MAPE yang terkecil)"
   ]
  },
  {
   "cell_type": "markdown",
   "id": "bf6a7f24",
   "metadata": {},
   "source": [
    "**Predict to Test Set with Chosen Model**"
   ]
  },
  {
   "cell_type": "code",
   "execution_count": 47,
   "id": "d4a534f2",
   "metadata": {},
   "outputs": [
    {
     "data": {
      "text/html": [
       "<div>\n",
       "<style scoped>\n",
       "    .dataframe tbody tr th:only-of-type {\n",
       "        vertical-align: middle;\n",
       "    }\n",
       "\n",
       "    .dataframe tbody tr th {\n",
       "        vertical-align: top;\n",
       "    }\n",
       "\n",
       "    .dataframe thead th {\n",
       "        text-align: right;\n",
       "    }\n",
       "</style>\n",
       "<table border=\"1\" class=\"dataframe\">\n",
       "  <thead>\n",
       "    <tr style=\"text-align: right;\">\n",
       "      <th></th>\n",
       "      <th>RMSE</th>\n",
       "      <th>MAE</th>\n",
       "      <th>MAPE</th>\n",
       "      <th>R-Squared</th>\n",
       "    </tr>\n",
       "  </thead>\n",
       "  <tbody>\n",
       "    <tr>\n",
       "      <th>XGB</th>\n",
       "      <td>3958.676204</td>\n",
       "      <td>1902.617218</td>\n",
       "      <td>0.200027</td>\n",
       "      <td>0.632836</td>\n",
       "    </tr>\n",
       "    <tr>\n",
       "      <th>RandomForest</th>\n",
       "      <td>3772.481867</td>\n",
       "      <td>1506.537090</td>\n",
       "      <td>0.112370</td>\n",
       "      <td>0.666562</td>\n",
       "    </tr>\n",
       "    <tr>\n",
       "      <th>DecisionTree</th>\n",
       "      <td>5042.715970</td>\n",
       "      <td>1726.613022</td>\n",
       "      <td>0.127646</td>\n",
       "      <td>0.404215</td>\n",
       "    </tr>\n",
       "  </tbody>\n",
       "</table>\n",
       "</div>"
      ],
      "text/plain": [
       "                     RMSE          MAE      MAPE  R-Squared\n",
       "XGB           3958.676204  1902.617218  0.200027   0.632836\n",
       "RandomForest  3772.481867  1506.537090  0.112370   0.666562\n",
       "DecisionTree  5042.715970  1726.613022  0.127646   0.404215"
      ]
     },
     "execution_count": 47,
     "metadata": {},
     "output_type": "execute_result"
    }
   ],
   "source": [
    "# Benchmarking model terbaik\n",
    "models = {\n",
    "    'XGB': XGBRegressor(random_state=42),\n",
    "    'RandomForest': RandomForestRegressor(random_state=42),\n",
    "    'DecisionTree': DecisionTreeRegressor(random_state=42)\n",
    "}\n",
    "\n",
    "score_rmse = []\n",
    "score_mae = []\n",
    "score_mape = []\n",
    "rsq=[]\n",
    "\n",
    "for i in models:\n",
    "\n",
    "    model = Pipeline([\n",
    "        ('preprocessing', transformer),\n",
    "        ('scaler', scaler),\n",
    "        ('model', models[i])\n",
    "        ])\n",
    "\n",
    "    model.fit(X_train, y_train)\n",
    "    y_pred = model.predict(X_test)\n",
    "    score_rmse.append(np.sqrt(mean_squared_error(y_test, y_pred)))\n",
    "    score_mae.append(mean_absolute_error(y_test, y_pred))\n",
    "    score_mape.append(mean_absolute_percentage_error(y_test, y_pred))\n",
    "    rsq.append(r2_score(y_test,y_pred))\n",
    "\n",
    "score_before_tuning = pd.DataFrame({'RMSE': score_rmse, 'MAE': score_mae, 'MAPE': score_mape,'R-Squared':rsq}, index=models.keys())\n",
    "score_before_tuning"
   ]
  },
  {
   "cell_type": "markdown",
   "id": "4fdb4ae6",
   "metadata": {},
   "source": [
    "Pada prediksi pada test set kali ini, ditambah metrik baru, yaitu R-Squared.  \n",
    "- Berdasarkan evaluasi metrik, model Random Forest merupakan nilai terbaik, dengan nilai error terkecil yang digambarkan oleh RMSE, MAE, dan MAPE serta nilai R-Squared yang paling besar"
   ]
  },
  {
   "cell_type": "markdown",
   "id": "92e77d2a",
   "metadata": {},
   "source": [
    "**Hyperparameter Tuning**  \n",
    "  \n",
    "Sebagai tahapan akhir, akan dilakukan hyperparameter tuning kepada model benchmark yang dipilih, yaitu model Random Forest. Untuk parameter yang bisa dituning dapat merujuk pada https://scikit-learn.org/stable/modules/generated/sklearn.ensemble.RandomForestRegressor.html#:~:text=A%20random%20forest%20regressor.,accuracy%20and%20control%20over%2Dfitting."
   ]
  },
  {
   "cell_type": "code",
   "execution_count": 48,
   "id": "6b167a4e",
   "metadata": {},
   "outputs": [],
   "source": [
    "# Hyperparameter tuning\n",
    "n_estimators = list(np.arange(10, 100))\n",
    "max_depth=[int(x) for x in np.linspace(10, 120, num = 12)]\n",
    "min_samples_split=[2, 5, 10]\n",
    "min_samples_leaf=[1, 3, 4]\n",
    "max_features=['auto', 'sqrt','log2']\n",
    "bootstrap = [True, False]\n",
    "\n",
    "hyperparam_rf = {\n",
    "    'model__n_estimators': n_estimators, \n",
    "    'model__max_depth': max_depth,\n",
    "    'model__min_samples_split': min_samples_split,\n",
    "    'model__min_samples_leaf': min_samples_leaf,\n",
    "    'model__max_features': max_features,\n",
    "    'model__bootstrap': bootstrap\n",
    "}"
   ]
  },
  {
   "cell_type": "code",
   "execution_count": 49,
   "id": "657eaba8",
   "metadata": {},
   "outputs": [],
   "source": [
    "rf = RandomForestRegressor(random_state=42)\n",
    "estimator_rf = Pipeline([\n",
    "        ('preprocessing', transformer),\n",
    "        ('scaler', scaler),\n",
    "        ('model', rf)\n",
    "        ])\n",
    "crossval = KFold(n_splits=5, shuffle=True, random_state=42)\n",
    "random_rf = RandomizedSearchCV(\n",
    "    estimator_rf, \n",
    "    param_distributions = hyperparam_rf,\n",
    "    n_iter = 50,\n",
    "    cv = crossval, \n",
    "    scoring = ['neg_root_mean_squared_error', 'neg_mean_absolute_error', 'neg_mean_absolute_percentage_error'], \n",
    "    n_jobs = -1,\n",
    "    refit = 'neg_root_mean_squared_error',\n",
    "    random_state = 42  \n",
    ")"
   ]
  },
  {
   "cell_type": "code",
   "execution_count": 50,
   "id": "42a38300",
   "metadata": {},
   "outputs": [
    {
     "data": {
      "text/plain": [
       "RandomizedSearchCV(cv=KFold(n_splits=5, random_state=42, shuffle=True),\n",
       "                   estimator=Pipeline(steps=[('preprocessing',\n",
       "                                              ColumnTransformer(remainder='passthrough',\n",
       "                                                                transformers=[('One '\n",
       "                                                                               'Hot',\n",
       "                                                                               OneHotEncoder(drop='first'),\n",
       "                                                                               ['Coverage',\n",
       "                                                                                'Marital '\n",
       "                                                                                'Status',\n",
       "                                                                                'EmploymentStatus',\n",
       "                                                                                'Education',\n",
       "                                                                                'Renew '\n",
       "                                                                                'Offer '\n",
       "                                                                                'Type']),\n",
       "                                                                              ('Binary',\n",
       "                                                                               BinaryEncoder(),\n",
       "                                                                               ['Vehicle '\n",
       "                                                                                'Class'])])),\n",
       "                                             ('scaler'...\n",
       "                                                                'log2'],\n",
       "                                        'model__min_samples_leaf': [1, 3, 4],\n",
       "                                        'model__min_samples_split': [2, 5, 10],\n",
       "                                        'model__n_estimators': [10, 11, 12, 13,\n",
       "                                                                14, 15, 16, 17,\n",
       "                                                                18, 19, 20, 21,\n",
       "                                                                22, 23, 24, 25,\n",
       "                                                                26, 27, 28, 29,\n",
       "                                                                30, 31, 32, 33,\n",
       "                                                                34, 35, 36, 37,\n",
       "                                                                38, 39, ...]},\n",
       "                   random_state=42, refit='neg_root_mean_squared_error',\n",
       "                   scoring=['neg_root_mean_squared_error',\n",
       "                            'neg_mean_absolute_error',\n",
       "                            'neg_mean_absolute_percentage_error'])"
      ]
     },
     "execution_count": 50,
     "metadata": {},
     "output_type": "execute_result"
    }
   ],
   "source": [
    "# Fitting data\n",
    "random_rf.fit(X_train, y_train)"
   ]
  },
  {
   "cell_type": "code",
   "execution_count": 51,
   "id": "10da26ef",
   "metadata": {},
   "outputs": [
    {
     "data": {
      "text/html": [
       "<div>\n",
       "<style scoped>\n",
       "    .dataframe tbody tr th:only-of-type {\n",
       "        vertical-align: middle;\n",
       "    }\n",
       "\n",
       "    .dataframe tbody tr th {\n",
       "        vertical-align: top;\n",
       "    }\n",
       "\n",
       "    .dataframe thead th {\n",
       "        text-align: right;\n",
       "    }\n",
       "</style>\n",
       "<table border=\"1\" class=\"dataframe\">\n",
       "  <thead>\n",
       "    <tr style=\"text-align: right;\">\n",
       "      <th></th>\n",
       "      <th>mean_fit_time</th>\n",
       "      <th>std_fit_time</th>\n",
       "      <th>mean_score_time</th>\n",
       "      <th>std_score_time</th>\n",
       "      <th>param_model__n_estimators</th>\n",
       "      <th>param_model__min_samples_split</th>\n",
       "      <th>param_model__min_samples_leaf</th>\n",
       "      <th>param_model__max_features</th>\n",
       "      <th>param_model__max_depth</th>\n",
       "      <th>param_model__bootstrap</th>\n",
       "      <th>...</th>\n",
       "      <th>std_test_neg_mean_absolute_error</th>\n",
       "      <th>rank_test_neg_mean_absolute_error</th>\n",
       "      <th>split0_test_neg_mean_absolute_percentage_error</th>\n",
       "      <th>split1_test_neg_mean_absolute_percentage_error</th>\n",
       "      <th>split2_test_neg_mean_absolute_percentage_error</th>\n",
       "      <th>split3_test_neg_mean_absolute_percentage_error</th>\n",
       "      <th>split4_test_neg_mean_absolute_percentage_error</th>\n",
       "      <th>mean_test_neg_mean_absolute_percentage_error</th>\n",
       "      <th>std_test_neg_mean_absolute_percentage_error</th>\n",
       "      <th>rank_test_neg_mean_absolute_percentage_error</th>\n",
       "    </tr>\n",
       "  </thead>\n",
       "  <tbody>\n",
       "    <tr>\n",
       "      <th>34</th>\n",
       "      <td>1.184976</td>\n",
       "      <td>0.044446</td>\n",
       "      <td>0.044803</td>\n",
       "      <td>0.004654</td>\n",
       "      <td>57</td>\n",
       "      <td>2</td>\n",
       "      <td>3</td>\n",
       "      <td>auto</td>\n",
       "      <td>20</td>\n",
       "      <td>True</td>\n",
       "      <td>...</td>\n",
       "      <td>76.286937</td>\n",
       "      <td>3</td>\n",
       "      <td>-0.121004</td>\n",
       "      <td>-0.111476</td>\n",
       "      <td>-0.107224</td>\n",
       "      <td>-0.109804</td>\n",
       "      <td>-0.113566</td>\n",
       "      <td>-0.112615</td>\n",
       "      <td>0.004681</td>\n",
       "      <td>4</td>\n",
       "    </tr>\n",
       "    <tr>\n",
       "      <th>25</th>\n",
       "      <td>1.364640</td>\n",
       "      <td>0.019203</td>\n",
       "      <td>0.045608</td>\n",
       "      <td>0.003205</td>\n",
       "      <td>69</td>\n",
       "      <td>2</td>\n",
       "      <td>3</td>\n",
       "      <td>auto</td>\n",
       "      <td>90</td>\n",
       "      <td>True</td>\n",
       "      <td>...</td>\n",
       "      <td>79.686978</td>\n",
       "      <td>4</td>\n",
       "      <td>-0.122001</td>\n",
       "      <td>-0.111790</td>\n",
       "      <td>-0.106768</td>\n",
       "      <td>-0.108867</td>\n",
       "      <td>-0.113236</td>\n",
       "      <td>-0.112533</td>\n",
       "      <td>0.005241</td>\n",
       "      <td>2</td>\n",
       "    </tr>\n",
       "    <tr>\n",
       "      <th>17</th>\n",
       "      <td>1.044016</td>\n",
       "      <td>0.024918</td>\n",
       "      <td>0.036822</td>\n",
       "      <td>0.001583</td>\n",
       "      <td>59</td>\n",
       "      <td>10</td>\n",
       "      <td>4</td>\n",
       "      <td>auto</td>\n",
       "      <td>10</td>\n",
       "      <td>True</td>\n",
       "      <td>...</td>\n",
       "      <td>82.226763</td>\n",
       "      <td>8</td>\n",
       "      <td>-0.124446</td>\n",
       "      <td>-0.117825</td>\n",
       "      <td>-0.108872</td>\n",
       "      <td>-0.113328</td>\n",
       "      <td>-0.116072</td>\n",
       "      <td>-0.116109</td>\n",
       "      <td>0.005149</td>\n",
       "      <td>15</td>\n",
       "    </tr>\n",
       "    <tr>\n",
       "      <th>28</th>\n",
       "      <td>0.783194</td>\n",
       "      <td>0.011145</td>\n",
       "      <td>0.033613</td>\n",
       "      <td>0.004076</td>\n",
       "      <td>40</td>\n",
       "      <td>10</td>\n",
       "      <td>4</td>\n",
       "      <td>auto</td>\n",
       "      <td>120</td>\n",
       "      <td>True</td>\n",
       "      <td>...</td>\n",
       "      <td>84.947100</td>\n",
       "      <td>7</td>\n",
       "      <td>-0.122614</td>\n",
       "      <td>-0.117450</td>\n",
       "      <td>-0.108196</td>\n",
       "      <td>-0.112875</td>\n",
       "      <td>-0.115898</td>\n",
       "      <td>-0.115407</td>\n",
       "      <td>0.004791</td>\n",
       "      <td>13</td>\n",
       "    </tr>\n",
       "    <tr>\n",
       "      <th>20</th>\n",
       "      <td>0.260836</td>\n",
       "      <td>0.006856</td>\n",
       "      <td>0.024006</td>\n",
       "      <td>0.000005</td>\n",
       "      <td>11</td>\n",
       "      <td>10</td>\n",
       "      <td>3</td>\n",
       "      <td>auto</td>\n",
       "      <td>30</td>\n",
       "      <td>True</td>\n",
       "      <td>...</td>\n",
       "      <td>75.479500</td>\n",
       "      <td>5</td>\n",
       "      <td>-0.123125</td>\n",
       "      <td>-0.113112</td>\n",
       "      <td>-0.107591</td>\n",
       "      <td>-0.111893</td>\n",
       "      <td>-0.114928</td>\n",
       "      <td>-0.114130</td>\n",
       "      <td>0.005106</td>\n",
       "      <td>5</td>\n",
       "    </tr>\n",
       "  </tbody>\n",
       "</table>\n",
       "<p>5 rows × 35 columns</p>\n",
       "</div>"
      ],
      "text/plain": [
       "    mean_fit_time  std_fit_time  mean_score_time  std_score_time  \\\n",
       "34       1.184976      0.044446         0.044803        0.004654   \n",
       "25       1.364640      0.019203         0.045608        0.003205   \n",
       "17       1.044016      0.024918         0.036822        0.001583   \n",
       "28       0.783194      0.011145         0.033613        0.004076   \n",
       "20       0.260836      0.006856         0.024006        0.000005   \n",
       "\n",
       "   param_model__n_estimators param_model__min_samples_split  \\\n",
       "34                        57                              2   \n",
       "25                        69                              2   \n",
       "17                        59                             10   \n",
       "28                        40                             10   \n",
       "20                        11                             10   \n",
       "\n",
       "   param_model__min_samples_leaf param_model__max_features  \\\n",
       "34                             3                      auto   \n",
       "25                             3                      auto   \n",
       "17                             4                      auto   \n",
       "28                             4                      auto   \n",
       "20                             3                      auto   \n",
       "\n",
       "   param_model__max_depth param_model__bootstrap  ...  \\\n",
       "34                     20                   True  ...   \n",
       "25                     90                   True  ...   \n",
       "17                     10                   True  ...   \n",
       "28                    120                   True  ...   \n",
       "20                     30                   True  ...   \n",
       "\n",
       "   std_test_neg_mean_absolute_error  rank_test_neg_mean_absolute_error  \\\n",
       "34                        76.286937                                  3   \n",
       "25                        79.686978                                  4   \n",
       "17                        82.226763                                  8   \n",
       "28                        84.947100                                  7   \n",
       "20                        75.479500                                  5   \n",
       "\n",
       "    split0_test_neg_mean_absolute_percentage_error  \\\n",
       "34                                       -0.121004   \n",
       "25                                       -0.122001   \n",
       "17                                       -0.124446   \n",
       "28                                       -0.122614   \n",
       "20                                       -0.123125   \n",
       "\n",
       "    split1_test_neg_mean_absolute_percentage_error  \\\n",
       "34                                       -0.111476   \n",
       "25                                       -0.111790   \n",
       "17                                       -0.117825   \n",
       "28                                       -0.117450   \n",
       "20                                       -0.113112   \n",
       "\n",
       "    split2_test_neg_mean_absolute_percentage_error  \\\n",
       "34                                       -0.107224   \n",
       "25                                       -0.106768   \n",
       "17                                       -0.108872   \n",
       "28                                       -0.108196   \n",
       "20                                       -0.107591   \n",
       "\n",
       "    split3_test_neg_mean_absolute_percentage_error  \\\n",
       "34                                       -0.109804   \n",
       "25                                       -0.108867   \n",
       "17                                       -0.113328   \n",
       "28                                       -0.112875   \n",
       "20                                       -0.111893   \n",
       "\n",
       "    split4_test_neg_mean_absolute_percentage_error  \\\n",
       "34                                       -0.113566   \n",
       "25                                       -0.113236   \n",
       "17                                       -0.116072   \n",
       "28                                       -0.115898   \n",
       "20                                       -0.114928   \n",
       "\n",
       "    mean_test_neg_mean_absolute_percentage_error  \\\n",
       "34                                     -0.112615   \n",
       "25                                     -0.112533   \n",
       "17                                     -0.116109   \n",
       "28                                     -0.115407   \n",
       "20                                     -0.114130   \n",
       "\n",
       "    std_test_neg_mean_absolute_percentage_error  \\\n",
       "34                                     0.004681   \n",
       "25                                     0.005241   \n",
       "17                                     0.005149   \n",
       "28                                     0.004791   \n",
       "20                                     0.005106   \n",
       "\n",
       "    rank_test_neg_mean_absolute_percentage_error  \n",
       "34                                             4  \n",
       "25                                             2  \n",
       "17                                            15  \n",
       "28                                            13  \n",
       "20                                             5  \n",
       "\n",
       "[5 rows x 35 columns]"
      ]
     },
     "execution_count": 51,
     "metadata": {},
     "output_type": "execute_result"
    }
   ],
   "source": [
    "# Melihat hasil tuning\n",
    "pd.DataFrame(random_rf.cv_results_).sort_values(by=['rank_test_neg_root_mean_squared_error', 'rank_test_neg_mean_absolute_error', 'rank_test_neg_mean_absolute_percentage_error']).head()"
   ]
  },
  {
   "cell_type": "code",
   "execution_count": 52,
   "id": "0480595c",
   "metadata": {},
   "outputs": [
    {
     "name": "stdout",
     "output_type": "stream",
     "text": [
      "Best_score: -3910.725975391083\n",
      "Best_params: {'model__n_estimators': 57, 'model__min_samples_split': 2, 'model__min_samples_leaf': 3, 'model__max_features': 'auto', 'model__max_depth': 20, 'model__bootstrap': True}\n"
     ]
    }
   ],
   "source": [
    "# Cek skor dan params terbaik\n",
    "print('Best_score:', random_rf.best_score_)\n",
    "print('Best_params:', random_rf.best_params_)"
   ]
  },
  {
   "cell_type": "markdown",
   "id": "2fb9f1af",
   "metadata": {},
   "source": [
    "**Predict to Test Set with Tuned Model**"
   ]
  },
  {
   "cell_type": "code",
   "execution_count": 53,
   "id": "29758083",
   "metadata": {},
   "outputs": [
    {
     "data": {
      "text/html": [
       "<div>\n",
       "<style scoped>\n",
       "    .dataframe tbody tr th:only-of-type {\n",
       "        vertical-align: middle;\n",
       "    }\n",
       "\n",
       "    .dataframe tbody tr th {\n",
       "        vertical-align: top;\n",
       "    }\n",
       "\n",
       "    .dataframe thead th {\n",
       "        text-align: right;\n",
       "    }\n",
       "</style>\n",
       "<table border=\"1\" class=\"dataframe\">\n",
       "  <thead>\n",
       "    <tr style=\"text-align: right;\">\n",
       "      <th></th>\n",
       "      <th>RMSE</th>\n",
       "      <th>MAE</th>\n",
       "      <th>MAPE</th>\n",
       "      <th>R-Squared</th>\n",
       "    </tr>\n",
       "  </thead>\n",
       "  <tbody>\n",
       "    <tr>\n",
       "      <th>RandomForestTuning</th>\n",
       "      <td>3723.808818</td>\n",
       "      <td>1530.06725</td>\n",
       "      <td>0.113282</td>\n",
       "      <td>0.675111</td>\n",
       "    </tr>\n",
       "  </tbody>\n",
       "</table>\n",
       "</div>"
      ],
      "text/plain": [
       "                           RMSE         MAE      MAPE  R-Squared\n",
       "RandomForestTuning  3723.808818  1530.06725  0.113282   0.675111"
      ]
     },
     "execution_count": 53,
     "metadata": {},
     "output_type": "execute_result"
    }
   ],
   "source": [
    "model = {'RandomForestTuning': RandomForestRegressor(random_state=42)}\n",
    "\n",
    "rf_tuning = random_rf.best_estimator_\n",
    "\n",
    "rf_tuning.fit(X_train, y_train)\n",
    "\n",
    "y_pred_rf_tuning = rf_tuning.predict(X_test)\n",
    "\n",
    "rmse_rf_tuning = np.sqrt(mean_squared_error(y_test, y_pred_rf_tuning))\n",
    "mae_rf_tuning = mean_absolute_error(y_test, y_pred_rf_tuning)\n",
    "mape_rf_tuning = mean_absolute_percentage_error(y_test, y_pred_rf_tuning)\n",
    "rsqrt_rf_tuning=r2_score(y_test, y_pred_rf_tuning)\n",
    "\n",
    "score_after_tuning = pd.DataFrame({'RMSE': rmse_rf_tuning, 'MAE': mae_rf_tuning, 'MAPE': mape_rf_tuning,'R-Squared':rsqrt_rf_tuning}, index=model.keys())\n",
    "score_after_tuning"
   ]
  },
  {
   "cell_type": "markdown",
   "id": "613f78f9",
   "metadata": {},
   "source": [
    "**Performance Comparison**"
   ]
  },
  {
   "cell_type": "code",
   "execution_count": 54,
   "id": "4330dccc",
   "metadata": {},
   "outputs": [
    {
     "data": {
      "text/html": [
       "<div>\n",
       "<style scoped>\n",
       "    .dataframe tbody tr th:only-of-type {\n",
       "        vertical-align: middle;\n",
       "    }\n",
       "\n",
       "    .dataframe tbody tr th {\n",
       "        vertical-align: top;\n",
       "    }\n",
       "\n",
       "    .dataframe thead th {\n",
       "        text-align: right;\n",
       "    }\n",
       "</style>\n",
       "<table border=\"1\" class=\"dataframe\">\n",
       "  <thead>\n",
       "    <tr style=\"text-align: right;\">\n",
       "      <th></th>\n",
       "      <th>RMSE</th>\n",
       "      <th>MAE</th>\n",
       "      <th>MAPE</th>\n",
       "      <th>R-Squared</th>\n",
       "    </tr>\n",
       "  </thead>\n",
       "  <tbody>\n",
       "    <tr>\n",
       "      <th>RandomForest</th>\n",
       "      <td>3772.481867</td>\n",
       "      <td>1506.53709</td>\n",
       "      <td>0.11237</td>\n",
       "      <td>0.666562</td>\n",
       "    </tr>\n",
       "  </tbody>\n",
       "</table>\n",
       "</div>"
      ],
      "text/plain": [
       "                     RMSE         MAE     MAPE  R-Squared\n",
       "RandomForest  3772.481867  1506.53709  0.11237   0.666562"
      ]
     },
     "execution_count": 54,
     "metadata": {},
     "output_type": "execute_result"
    }
   ],
   "source": [
    "pd.DataFrame(score_before_tuning.loc['RandomForest']).T"
   ]
  },
  {
   "cell_type": "markdown",
   "id": "13a24a36",
   "metadata": {},
   "source": [
    "Terdapat perbedaan performa model Random Forest sebelum tuning dan setelah tuning.  \n",
    "- Nilai RMSE pada model Random Forest setelah tuning terlihat menurun dibandingkan dengan model sebelum tuning  \n",
    "- Nilai MAE pada model Random Forest setelah tuning terlihat meningkat dibandingkan dengan model sebelum tuning  \n",
    "- Nilai MAP pada model Random Forest setelah tuning terlihat meningkat tipis dibandingkan dengan model sebelum tuning  \n",
    "- Nilai R-Squared pada model Random Forest setelah tuning terlihat meningkat dibandingkan dengan model sebelum tuning  \n",
    "  \n",
    "Dengan pertimbangan adanya peningkatan nilai R-Squared, yang berarti performa model dalam menjelaskan keadaan data lebih baik disertai penurunan nilai RMSE disertai kenaikan nilai MAPE yang cenderung kecil, maka akan dipilih model Random Forest yang sudah dilakukan hyperparameter tuning.  "
   ]
  },
  {
   "cell_type": "code",
   "execution_count": 55,
   "id": "b890924e",
   "metadata": {},
   "outputs": [
    {
     "data": {
      "image/png": "[encoded data removed]",
      "text/plain": [
       "<Figure size 720x720 with 1 Axes>"
      ]
     },
     "metadata": {
      "needs_background": "light"
     },
     "output_type": "display_data"
    }
   ],
   "source": [
    "# Actual vs Prediction\n",
    "plt.figure(figsize=(10, 10))\n",
    "plt.plot([0, max(y_test)], [0, max(y_pred_rf_tuning)], color='gray', lw=1, linestyle='--')\n",
    "plot = sns.scatterplot(x=y_test, y=y_pred_rf_tuning).set(title='Actual vs. Prediction CLV', \n",
    "                                               xlabel='Actual CLV', \n",
    "                                               ylabel='Predicted CLV');"
   ]
  },
  {
   "cell_type": "markdown",
   "id": "3e88f94b",
   "metadata": {},
   "source": [
    "Model terlihat dapat memprediksi dengan baik pada angka CLV yang rendah walaupun ada kecenderungan terjadinya overestimate (angka berada di atas garis diagonal). Namun seiring meningkatnya angka CLV, pola angka mulai acak (terjadinya overestimation dan underestimation).  \n",
    "  \n",
    "Walaupun begitu, berdasarkan nilai MAPE yang didapat, yaitu sekitar 11.3%, maka model ini masih dapat digunakan. Contoh kasus lainnya seperti pada Jablecka (2020) yang mendapatkan nilai MAPE di kisaran 15 - 30%.\n",
    "\n",
    "*Reference: Jablecka, M (2020). Modelling CLV in the Insurance Industry Using Deep Learning Methods*"
   ]
  },
  {
   "cell_type": "markdown",
   "id": "7f09fa70",
   "metadata": {},
   "source": [
    "**Features Importance**"
   ]
  },
  {
   "cell_type": "code",
   "execution_count": 56,
   "id": "299a73f6",
   "metadata": {},
   "outputs": [
    {
     "data": {
      "image/png": "[encoded data removed]",
      "text/plain": [
       "<Figure size 432x288 with 1 Axes>"
      ]
     },
     "metadata": {
      "needs_background": "light"
     },
     "output_type": "display_data"
    }
   ],
   "source": [
    "feature_imp = pd.Series(rf_tuning['model'].feature_importances_, transformer.get_feature_names()).sort_values(ascending = False)\n",
    "feature_imp.plot(kind='barh', title='Feature Importances');"
   ]
  },
  {
   "cell_type": "markdown",
   "id": "a47d2f53",
   "metadata": {},
   "source": [
    "Pada grafis feature importance, terlihat variabel Number of Policies dan Monthly Premium Auto merupakan dua variabel yang paling berpengaruh terhadap nilai CLV. Variabel Total Claim Amount dan Income juga memiliki sedikit pengaruh terhadap nilai CLV. \n",
    "  \n",
    "\n",
    "Hal yang menarik dari grafis feature importance ini adalah demografi pelanggan dan juga kendaraan yang diasuransikan tidak berpengaruh terhadap nilai CLV."
   ]
  },
  {
   "cell_type": "markdown",
   "id": "0fa37b16",
   "metadata": {},
   "source": [
    "### **Conclusion**"
   ]
  },
  {
   "cell_type": "markdown",
   "id": "c59af675",
   "metadata": {},
   "source": [
    "Berdasarkan hasil evaluasi model, maka pada kasus ini, model yang paling optimal untuk digunakan untuk memprediksi nilai CLV adalah model Random Forest setelah dilakukan hyperparameter tuning.  \n",
    "  \n",
    "Dari semua variabel yang ada, variabel Number of Policies dan Monthly Premium Auto merupakan variabel yang paling berpengaruh pada nilai CLV."
   ]
  },
  {
   "cell_type": "markdown",
   "id": "6ae15ed7",
   "metadata": {},
   "source": [
    "### **Recommendation**"
   ]
  },
  {
   "cell_type": "markdown",
   "id": "29ab9160",
   "metadata": {},
   "source": [
    "Beberapa rekomendasi yang dapat diberikan untuk PT ABC adalah:  \n",
    "- Dalam strategi pemasarannya, sebaiknya PT ABC aktif mempromosikan paket- paket polis asuransi yang atraktif bagi konsumen, terutama pada konsumen loyal yang terdaftar pada banyak polis, mengingat variabel Number of Policies merupakan variabel yang paling berpengaruh terhadap nilai CLV. Dengan menawarkan paket- paket polis asuransi yang optimal, PT ABC memiliki potensial untuk meraih konsumen- konsumen yang bernilai. PT ABC bisa menawarkan berbagai macam benefit bila diperlukan.  \n",
    "- Karena nilai Monthly Premium Auto atau premi bulanan cukup penting, maka sebaiknya PT ABC menawarkan premi bulanan yang kompetitif dengan kontrak yang jelas.  \n",
    "- Total claim amount juga menjadi komponen penting pada nilai CLV. PT ABC dapat memastikan pelanggan bahwa track record perusahaan dalam membayar klaim sangat baik.  \n",
    "- Perusahaan dapat melakukan strategi pemasaran produk pada pelanggan berdasarkan tingkat penghasilannya, mengingat variabel income cukup berpengaruh pada nilai CLV.  \n",
    "- PT ABC dapat meningkatkan kualitas database pelanggan, dengan menambahkan kolom Customer's ID. Hal ini diperlukan agar dapat mengantisipasi kesalahan input dan juga mampu membuat personalisasi pelanggan menjadi lebih baik."
   ]
  },
  {
   "cell_type": "markdown",
   "id": "2737d398",
   "metadata": {},
   "source": [
    "Beberapa rekomendasi untuk analisis lebih lanjut adalah:  \n",
    "- Perlu dilakukan penambahan database pelanggan untuk kedepannya, dikarenakan nilai R-Squared yang cenderung rendah.  \n",
    "- Mengingat variabel Number of Policies sangat berpengaruh terhadap CLV, ada baiknya dilakukan analisis lanjutan yang menggolongkan produk polis asuransi yang paling memberikan keuntungan bagi perusahaan. Hal tersebut dibutuhkan agar perusahaan dapat membuat paket asuransi yang tepat bagi pelanggan.  \n",
    "- Dikarenakan variabel Monthly Premium Auto cukup penting, dibutuhkan analisis lanjutan kepada pelanggan agar PT ABC bisa lebih selektif dalam memilih pelanggan agar tidak terjadi penunggakan premi.  \n",
    "- Merujuk pada Fang et al (2016), ada baiknya menambahkan beberapa variabel tambahan pada dataset, seperti jenis pembayaran asuransi (bulanan, tahunan, dsb), dan juga asal pelanggan bila ada."
   ]
  },
  {
   "cell_type": "markdown",
   "id": "a0ee8b9a",
   "metadata": {},
   "source": [
    "**Save Model**"
   ]
  },
  {
   "cell_type": "code",
   "execution_count": 57,
   "id": "d3938930",
   "metadata": {},
   "outputs": [],
   "source": [
    "import pickle\n",
    "\n",
    "# Model Pickling\n",
    "random_rf.best_estimator_.fit(X,y)\n",
    "filename = 'Model Final CLV.sav'\n",
    "pickle.dump(random_rf.best_estimator_,open(filename,'wb'))\n",
    "\n",
    "# load model\n",
    "filename = 'Model Final CLV.sav'\n",
    "loaded_model = pickle.load(open(filename,'rb'))"
   ]
  },
  {
   "cell_type": "code",
   "execution_count": 58,
   "id": "11f78d71",
   "metadata": {},
   "outputs": [
    {
     "data": {
      "text/plain": [
       "array([15424.34171387,  5533.72543344,  9439.3540107 , ...,\n",
       "        2773.31319393,  2538.80512022, 12028.15545689])"
      ]
     },
     "execution_count": 58,
     "metadata": {},
     "output_type": "execute_result"
    }
   ],
   "source": [
    "loaded_model.predict(X_test)"
   ]
  }
 ],
 "metadata": {
  "kernelspec": {
   "display_name": "Python 3 (ipykernel)",
   "language": "python",
   "name": "python3"
  },
  "language_info": {
   "codemirror_mode": {
    "name": "ipython",
    "version": 3
   },
   "file_extension": ".py",
   "mimetype": "text/x-python",
   "name": "python",
   "nbconvert_exporter": "python",
   "pygments_lexer": "ipython3",
   "version": "3.9.7"
  }
 },
 "nbformat": 4,
 "nbformat_minor": 5
}
